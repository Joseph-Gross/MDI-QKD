{
 "cells": [
  {
   "cell_type": "markdown",
   "metadata": {
    "tags": []
   },
   "source": [
    "## Introduction"
   ]
  },
  {
   "cell_type": "markdown",
   "metadata": {},
   "source": [
    "MDI-QKD Report [here](final_report.pdf)"
   ]
  },
  {
   "cell_type": "markdown",
   "metadata": {
    "tags": []
   },
   "source": [
    "## Importing Necessary Libraries"
   ]
  },
  {
   "cell_type": "code",
   "execution_count": 1,
   "metadata": {},
   "outputs": [
    {
     "name": "stdout",
     "output_type": "stream",
     "text": [
      "Requirement already satisfied: matplotlib in /Library/Frameworks/Python.framework/Versions/3.8/lib/python3.8/site-packages (3.5.1)\n",
      "Requirement already satisfied: cycler>=0.10 in /Library/Frameworks/Python.framework/Versions/3.8/lib/python3.8/site-packages (from matplotlib) (0.11.0)\n",
      "Requirement already satisfied: fonttools>=4.22.0 in /Library/Frameworks/Python.framework/Versions/3.8/lib/python3.8/site-packages (from matplotlib) (4.32.0)\n",
      "Requirement already satisfied: kiwisolver>=1.0.1 in /Library/Frameworks/Python.framework/Versions/3.8/lib/python3.8/site-packages (from matplotlib) (1.4.2)\n",
      "Requirement already satisfied: numpy>=1.17 in /Library/Frameworks/Python.framework/Versions/3.8/lib/python3.8/site-packages (from matplotlib) (1.21.2)\n",
      "Requirement already satisfied: packaging>=20.0 in /Library/Frameworks/Python.framework/Versions/3.8/lib/python3.8/site-packages (from matplotlib) (21.0)\n",
      "Requirement already satisfied: pillow>=6.2.0 in /Library/Frameworks/Python.framework/Versions/3.8/lib/python3.8/site-packages (from matplotlib) (8.3.2)\n",
      "Requirement already satisfied: pyparsing>=2.2.1 in /Library/Frameworks/Python.framework/Versions/3.8/lib/python3.8/site-packages (from matplotlib) (2.4.7)\n",
      "Requirement already satisfied: python-dateutil>=2.7 in /Users/josephgross/Library/Python/3.8/lib/python/site-packages (from matplotlib) (2.8.1)\n",
      "Requirement already satisfied: six>=1.5 in /Users/josephgross/Library/Python/3.8/lib/python/site-packages (from python-dateutil>=2.7->matplotlib) (1.15.0)\n",
      "\n",
      "\u001b[1m[\u001b[0m\u001b[34;49mnotice\u001b[0m\u001b[1;39;49m]\u001b[0m\u001b[39;49m A new release of pip is available: \u001b[0m\u001b[31;49m20.2.1\u001b[0m\u001b[39;49m -> \u001b[0m\u001b[32;49m23.1.2\u001b[0m\n",
      "\u001b[1m[\u001b[0m\u001b[34;49mnotice\u001b[0m\u001b[1;39;49m]\u001b[0m\u001b[39;49m To update, run: \u001b[0m\u001b[32;49mpip install --upgrade pip\u001b[0m\n"
     ]
    }
   ],
   "source": [
    "!pip install matplotlib\n",
    "\n",
    "import numpy as np\n",
    "import matplotlib.pyplot as plt\n",
    "from matplotlib.animation import FuncAnimation, PillowWriter\n",
    "from IPython.display import Image\n",
    "\n",
    "import ipywidgets as widgets\n",
    "from IPython.display import display, clear_output\n",
    "\n",
    "from math import * \n",
    "from dataclasses import dataclass, asdict, fields\n",
    "from enum import Enum\n",
    "from typing import List, Tuple\n",
    "import random\n",
    "import pandas as pd\n",
    "import time\n",
    "\n",
    "from tqdm.auto import tqdm\n",
    "import threading\n",
    "from queue import Queue"
   ]
  },
  {
   "cell_type": "markdown",
   "metadata": {
    "tags": []
   },
   "source": [
    "## Defining Constants and Variables"
   ]
  },
  {
   "cell_type": "code",
   "execution_count": 2,
   "metadata": {},
   "outputs": [],
   "source": [
    "class Basis(Enum):\n",
    "    Rectilinear = (\"H\", \"V\")\n",
    "    Diagonal = (\"D\", \"A\")\n",
    "\n",
    "class States(Enum):\n",
    "    H = (1, 0)\n",
    "    V = (0, 1)\n",
    "    D = (1/1/sqrt(2), 1/1/sqrt(2))\n",
    "    A = (1/1/sqrt(2), -1/1/sqrt(2))\n",
    "    \n",
    "    @property\n",
    "    def basis(self):\n",
    "        return Basis.Rectilinear if self.name in Basis.Rectilinear.value else Basis.Diagonal\n",
    "    \n",
    "    @property\n",
    "    def bit(self):\n",
    "        return 0 if self.name in (\"H\", \"D\") else 1\n",
    "    \n",
    "    def loss_value(self, loss_multiplier: float) -> Tuple[float]:\n",
    "        return (self.value[0] * loss_multiplier, self.value[1] * loss_multiplier)\n",
    "    \n",
    "    \n",
    "@dataclass\n",
    "class ExperimentalLoss:\n",
    "    e_d: float\n",
    "    e_pbs1: float \n",
    "    e_pbs2: float   \n",
    "    e_bs50: float \n",
    "    e_fff: float\n",
    "    \n",
    "    e_hwp_a: float\n",
    "    e_qwp_a: float\n",
    "    e_hwp_b: float\n",
    "    e_qwp_b: float\n",
    "    \n",
    "    polarizer_switching_time_s: float\n",
    "    \n",
    "    @staticmethod\n",
    "    def get_display_name(attr_name: str):\n",
    "        \n",
    "        display_names = {\n",
    "            'e_d': 'Detector Efficiency',\n",
    "            'e_pbs1': 'PBS 1 Efficiency',\n",
    "            'e_pbs2': 'PBS 2 Efficiency',\n",
    "            'e_bs50': 'BS 50/50 Efficiency',\n",
    "            'e_fff': 'Free Space / Fiber Efficiency',\n",
    "            'e_hwp_a': 'Alice HWP Efficiency',\n",
    "            'e_qwp_a': 'Alice QWP Efficiency',\n",
    "            'e_hwp_b': 'Bob HWP Efficiency',\n",
    "            'e_qwp_b': 'Bob QWP Efficiency',\n",
    "            \n",
    "            'polarizer_switching_time_s': 'Polarizer Switching Time'\n",
    "        }\n",
    "        \n",
    "        return display_names[attr_name]\n",
    "    \n",
    "    @property\n",
    "    def field_names(self):\n",
    "        return [field.name for field in fields(self)]\n",
    "    \n",
    "    \n",
    "@dataclass\n",
    "class Measurement:\n",
    "    d1h: bool\n",
    "    d1v: bool\n",
    "    d2h: bool\n",
    "    d2v: bool\n",
    "    \n",
    "    @property\n",
    "    def bell_plus(self):\n",
    "        return (self.d1h & self.d1v) | (self.d2h & self.d2v)\n",
    "    \n",
    "    @property\n",
    "    def bell_minus(self):\n",
    "        return (self.d1h & self.d2v) | (self.d1v & self.d2h)\n",
    "    \n",
    "@dataclass\n",
    "class SimulationResult:\n",
    "    alice_state: str\n",
    "    alice_bit: int\n",
    "    bob_state: str\n",
    "    bob_bit: int\n",
    "    \n",
    "    basis: str\n",
    "    bell_plus: bool\n",
    "    bell_minus: bool\n",
    "    is_valid: bool"
   ]
  },
  {
   "cell_type": "code",
   "execution_count": 3,
   "metadata": {},
   "outputs": [
    {
     "data": {
      "text/plain": [
       "['e_d',\n",
       " 'e_pbs1',\n",
       " 'e_pbs2',\n",
       " 'e_bs50',\n",
       " 'e_fff',\n",
       " 'e_hwp_a',\n",
       " 'e_qwp_a',\n",
       " 'e_hwp_b',\n",
       " 'e_qwp_b',\n",
       " 'polarizer_switching_time_s']"
      ]
     },
     "execution_count": 3,
     "metadata": {},
     "output_type": "execute_result"
    }
   ],
   "source": [
    "NO_LOSS = ExperimentalLoss(\n",
    "    e_d = 1,      \n",
    "    e_pbs1 = 1,    \n",
    "    e_pbs2 = 1,   \n",
    "    e_bs50 = 1,    \n",
    "    e_fff = 1,\n",
    "    \n",
    "    e_hwp_a = 1,  \n",
    "    e_qwp_a = 1, \n",
    "    e_hwp_b = 1,  \n",
    "    e_qwp_b = 1,\n",
    "    \n",
    "    polarizer_switching_time_s = 1e-6  # photon generation rate of the detector is 10^5 photon/s,\n",
    ")\n",
    "\n",
    "STATE_OF_THE_ART_LOSS = ExperimentalLoss(\n",
    "    e_d = 0.98,      \n",
    "    e_pbs1 = 1,    \n",
    "    e_pbs2 = 1,   \n",
    "    e_bs50 = 1,    \n",
    "    e_fff = 1,\n",
    "    \n",
    "    e_hwp_a = 1,  \n",
    "    e_qwp_a = 1, \n",
    "    e_hwp_b = 1,  \n",
    "    e_qwp_b = 1,\n",
    "    \n",
    "    polarizer_switching_time_s = 20e-3  # Thorlabs switching time for polarizer is 20ms\n",
    ")\n",
    "\n",
    "MIT_OPTICS_LAB_LOSS = ExperimentalLoss(\n",
    "    e_d = 0.1,      \n",
    "    e_pbs1 = 0.5,    \n",
    "    e_pbs2 = 0.5,   \n",
    "    e_bs50 = 0.8,    \n",
    "    e_fff = 1,\n",
    "    \n",
    "    e_hwp_a = 0.75,  \n",
    "    e_qwp_a = 1, \n",
    "    e_hwp_b = 0.75,  \n",
    "    e_qwp_b = 1,\n",
    "    \n",
    "    polarizer_switching_time_s = 3    # Qued switching time for polarizer is 3s\n",
    ")\n",
    "\n",
    "NO_LOSS.field_names"
   ]
  },
  {
   "cell_type": "markdown",
   "metadata": {
    "tags": []
   },
   "source": [
    "## Defining Helper Functions"
   ]
  },
  {
   "cell_type": "markdown",
   "metadata": {
    "tags": []
   },
   "source": [
    "#### Expected Photon Count\n",
    "\n",
    "Calculations and diagrams can be found in [here](expected_photon_count.pdf)"
   ]
  },
  {
   "cell_type": "code",
   "execution_count": 4,
   "metadata": {},
   "outputs": [],
   "source": [
    "N1v = lambda ah, av, bh, bv, e_bs50, e_pbs: (e_bs50 * e_pbs)**2 * (av - bv)**2 / 2\n",
    "N1h = lambda ah, av, bh, bv, e_bs50, e_pbs: (e_bs50 * e_pbs)**2 * (ah - bh)**2 / 2\n",
    "N2v = lambda ah, av, bh, bv, e_bs50, e_pbs: (e_bs50 * e_pbs)**2 * (av + bv)**2 / 2\n",
    "N2h = lambda ah, av, bh, bv, e_bs50, e_pbs: (e_bs50 * e_pbs)**2 * (ah + bh)**2 / 2"
   ]
  },
  {
   "cell_type": "markdown",
   "metadata": {
    "tags": []
   },
   "source": [
    "#### Simulation"
   ]
  },
  {
   "cell_type": "code",
   "execution_count": 5,
   "metadata": {},
   "outputs": [],
   "source": [
    "def simulate_measurement(alice: States, bob: States, loss: ExperimentalLoss) -> Measurement:\n",
    "    \n",
    "    alice_loss = loss.e_fff * loss.e_hwp_a * loss.e_qwp_a\n",
    "    bob_loss = loss.e_fff * loss.e_hwp_b * loss.e_qwp_b\n",
    "    \n",
    "    detector_weights = [\n",
    "        loss.e_d * N1v(*alice.loss_value(alice_loss), *bob.loss_value(bob_loss), loss.e_bs50, loss.e_pbs1),\n",
    "        loss.e_d * N1h(*alice.loss_value(alice_loss), *bob.loss_value(bob_loss), loss.e_bs50, loss.e_pbs1),\n",
    "        loss.e_d * N2v(*alice.loss_value(alice_loss), *bob.loss_value(bob_loss), loss.e_bs50, loss.e_pbs2),\n",
    "        loss.e_d * N2h(*alice.loss_value(alice_loss), *bob.loss_value(bob_loss), loss.e_bs50, loss.e_pbs2),\n",
    "    ]\n",
    "    \n",
    "    scale_factor = 2 / sum(detector_weights)\n",
    "    scaled_detector_weights = [scale_factor * weight for weight in detector_weights]\n",
    "    \n",
    "    detector_hits = random.choices([\"d1v\", \"d1h\", \"d2v\", \"d2h\"], weights=scaled_detector_weights, k=2)\n",
    "\n",
    "    is_valid = random.random() <= 1/scale_factor\n",
    "    d1v = \"d1v\" in detector_hits if is_valid else False\n",
    "    d1h = \"d1h\" in detector_hits if is_valid else False\n",
    "    d2v = \"d2v\" in detector_hits if is_valid else False\n",
    "    d2h = \"d2h\" in detector_hits if is_valid else False\n",
    "\n",
    "    return Measurement(d1h=d1h, d1v=d1v, d2h=d2h, d2v=d2v)\n",
    "\n",
    "\n",
    "def simulate_experiment(steps: int, loss: ExperimentalLoss, show_progress_bar: bool = False) -> List[SimulationResult]:\n",
    "    \n",
    "    results = []\n",
    "    \n",
    "    for step in tqdm(range(steps), disable= not show_progress_bar):\n",
    "        alice = random.choice(list(States))\n",
    "        bob = random.choice(list(States))\n",
    "        measurement = simulate_measurement(alice, bob, loss)\n",
    "        is_same_basis = alice.basis == bob.basis\n",
    "        basis = alice.basis.name if is_same_basis else \"n/a\"\n",
    "        \n",
    "        is_valid = (measurement.bell_plus | measurement.bell_minus) & is_same_basis\n",
    "        \n",
    "        \n",
    "        simulation_result = SimulationResult(\n",
    "            alice_state=alice.name, \n",
    "            alice_bit=alice.bit, \n",
    "            bob_state=bob.name, \n",
    "            bob_bit=bob.bit, \n",
    "            basis=basis, \n",
    "            bell_plus=measurement.bell_plus, \n",
    "            bell_minus=measurement.bell_minus,\n",
    "            is_valid=is_valid,\n",
    "        )\n",
    "        results.append(simulation_result)\n",
    "        \n",
    "    return results"
   ]
  },
  {
   "cell_type": "markdown",
   "metadata": {
    "tags": []
   },
   "source": [
    "#### Sifting"
   ]
  },
  {
   "cell_type": "code",
   "execution_count": 6,
   "metadata": {},
   "outputs": [],
   "source": [
    "def apply_bit_flip(results_df: pd.DataFrame) -> pd.DataFrame:\n",
    "    \n",
    "    if results_df[\"basis\"] == Basis.Rectilinear.name:\n",
    "        return (results_df[\"bob_bit\"] + 1) % 2\n",
    "    \n",
    "    if results_df[\"basis\"] == Basis.Diagonal.name and results_df[\"bell_minus\"]:\n",
    "        return (results_df[\"bob_bit\"] + 1) % 2\n",
    "\n",
    "    return results_df[\"bob_bit\"]\n"
   ]
  },
  {
   "cell_type": "markdown",
   "metadata": {
    "tags": []
   },
   "source": [
    "#### Analysis"
   ]
  },
  {
   "cell_type": "code",
   "execution_count": 7,
   "metadata": {},
   "outputs": [],
   "source": [
    "def calculate_bits_per_photon(loss: ExperimentalLoss, fast=False, show_progress_bar: bool = True, print_log: bool = True) -> float:\n",
    "    if print_log:\n",
    "        print(\"Calculating bits per photon...\")\n",
    "    \n",
    "    key_rates = []\n",
    "\n",
    "    start = time.time()\n",
    "    \n",
    "    range_iter = range(100, 1000, 100) if fast else range(1000, 10000, 1000)\n",
    "    for step in tqdm(range_iter, disable= not show_progress_bar):\n",
    "\n",
    "        results = simulate_experiment(step, loss)\n",
    "\n",
    "        df = pd.DataFrame(results)\n",
    "        df = df[df[\"is_valid\"]]\n",
    "\n",
    "        # print(step, df.shape[0], round(df.shape[0] / step, 4))\n",
    "\n",
    "        key_rates.append(df.shape[0] / step)\n",
    "\n",
    "    end = time.time()\n",
    "\n",
    "    avg_key_rate = round(np.mean(key_rates), 4) \n",
    "    std_key_rate = round(np.std(key_rates), 4)\n",
    "    \n",
    "    if print_log:\n",
    "        print(f\"{avg_key_rate=}\")\n",
    "        print(f\"{std_key_rate=}\")\n",
    "        print(f\"Time to run: {round(end-start, 2)} seconds\")\n",
    "        print(\"----------------------------------\")\n",
    "\n",
    "    return avg_key_rate\n",
    "\n",
    "\n",
    "\n",
    "def calculate_photon_simulation_rate(loss: ExperimentalLoss) -> float:\n",
    "    print(\"Calculating photon simulation rate...\")\n",
    "    times = []\n",
    "\n",
    "    start_sim = time.time()\n",
    "    for step in tqdm(range(1000, 10000, 1000)):\n",
    "\n",
    "        start = time.time()\n",
    "\n",
    "        results = simulate_experiment(step, loss)\n",
    "        df = pd.DataFrame(results)\n",
    "        df = df[df[\"is_valid\"]]\n",
    "\n",
    "        end = time.time()\n",
    "\n",
    "        time_taken = round(end-start, 3)\n",
    "        times.append(time_taken/step)\n",
    "\n",
    "        # print(step, time_taken, time_taken/step)\n",
    "        \n",
    "    end_sim = time.time()\n",
    "\n",
    "    avg_time_per_step = round(np.mean(times), 6) \n",
    "    std_time_per_step = round(np.std(times), 6)\n",
    "    \n",
    "    print(f\"{avg_time_per_step=}\")\n",
    "    print(f\"{std_time_per_step=}\")\n",
    "    print(f\"Time to run: {round(end-start, 2)} seconds\")\n",
    "    print(\"----------------------------------\")\n",
    "    \n",
    "    return avg_time_per_step\n",
    "\n",
    "\n",
    "\n",
    "def calculate_error_rate(str1, str2):\n",
    "    if len(str1) != len(str2):\n",
    "        raise ValueError(\"Strings must have the same length\")\n",
    "\n",
    "    differences = sum(ch1 != ch2 for ch1, ch2 in zip(str1, str2))\n",
    "    error_rate = differences / len(str1)\n",
    "    return error_rate\n",
    "\n",
    "\n",
    "\n",
    "def calculate_key_rate(loss: ExperimentalLoss) -> float:\n",
    "    \n",
    "    bits_per_photon = calculate_bits_per_photon(loss, fast=True, show_progress_bar=False, print_log=False)\n",
    "    photons_per_second_encoding_rate = 1 / loss.polarizer_switching_time_s\n",
    "    \n",
    "    return bits_per_photon * photons_per_second_encoding_rate\n"
   ]
  },
  {
   "cell_type": "markdown",
   "metadata": {
    "tags": []
   },
   "source": [
    "#### End to End"
   ]
  },
  {
   "cell_type": "code",
   "execution_count": 8,
   "metadata": {},
   "outputs": [],
   "source": [
    "def generate_key(target_key_size: int, loss: ExperimentalLoss):\n",
    "    \n",
    "    bits_per_photon = calculate_bits_per_photon(loss)\n",
    "    photon_multiplier = 1 / bits_per_photon    \n",
    "    steps = int(target_key_size * photon_multiplier)\n",
    "    \n",
    "    estimated_photon_simulation_rate = calculate_photon_simulation_rate(loss)\n",
    "    estimated_time = round(estimated_photon_simulation_rate * steps, 3)\n",
    "    \n",
    "    photons_per_second_encoding_rate = 1 / loss.polarizer_switching_time_s\n",
    "    secret_key_rate = round(bits_per_photon * photons_per_second_encoding_rate, 5)\n",
    "    \n",
    "    print(f\"Generating {target_key_size=} by simulating {steps=} with {bits_per_photon=} \\n\")\n",
    "    print(f\"Simulating experiment with {estimated_photon_simulation_rate=} seconds\")\n",
    "    \n",
    "    results = simulate_experiment(steps, loss, show_progress_bar=True)\n",
    "    df = pd.DataFrame(results)\n",
    "    df = df[df[\"is_valid\"]]\n",
    "    df[\"bob_bit_sifted\"] = df.apply(apply_bit_flip, axis=1)\n",
    "    \n",
    "    alice_key = ''.join(df['alice_bit'].astype(str))\n",
    "    bob_key = ''.join(df['bob_bit_sifted'].astype(str))\n",
    "    \n",
    "    alice_key_hex = hex(int(alice_key, 2))\n",
    "    bob_key_hex = hex(int(bob_key, 2))\n",
    "\n",
    "    assert alice_key == bob_key, \"Keys do not match\"    \n",
    "    return alice_key, bob_key, alice_key_hex, bob_key_hex, secret_key_rate"
   ]
  },
  {
   "cell_type": "markdown",
   "metadata": {
    "tags": []
   },
   "source": [
    "## Simulating Experiment"
   ]
  },
  {
   "cell_type": "markdown",
   "metadata": {},
   "source": [
    "#### No Loss"
   ]
  },
  {
   "cell_type": "code",
   "execution_count": 9,
   "metadata": {},
   "outputs": [
    {
     "name": "stdout",
     "output_type": "stream",
     "text": [
      "Calculating bits per photon...\n"
     ]
    },
    {
     "data": {
      "application/vnd.jupyter.widget-view+json": {
       "model_id": "42d64aa8d58c49caa9c2247ea342a496",
       "version_major": 2,
       "version_minor": 0
      },
      "text/plain": [
       "  0%|          | 0/9 [00:00<?, ?it/s]"
      ]
     },
     "metadata": {},
     "output_type": "display_data"
    },
    {
     "name": "stdout",
     "output_type": "stream",
     "text": [
      "avg_key_rate=0.1905\n",
      "std_key_rate=0.0078\n",
      "Time to run: 2.12 seconds\n",
      "----------------------------------\n",
      "Calculating photon simulation rate...\n"
     ]
    },
    {
     "data": {
      "application/vnd.jupyter.widget-view+json": {
       "model_id": "3cce590b63e046538acceae819ed9dc2",
       "version_major": 2,
       "version_minor": 0
      },
      "text/plain": [
       "  0%|          | 0/9 [00:00<?, ?it/s]"
      ]
     },
     "metadata": {},
     "output_type": "display_data"
    },
    {
     "name": "stdout",
     "output_type": "stream",
     "text": [
      "avg_time_per_step=4.8e-05\n",
      "std_time_per_step=7e-06\n",
      "Time to run: 0.38 seconds\n",
      "----------------------------------\n",
      "Generating target_key_size=512 by simulating steps=2687 with bits_per_photon=0.1905 \n",
      "\n",
      "Simulating experiment with estimated_photon_simulation_rate=4.8e-05 seconds\n"
     ]
    },
    {
     "data": {
      "application/vnd.jupyter.widget-view+json": {
       "model_id": "3114b32c2cb540be96216e748f162171",
       "version_major": 2,
       "version_minor": 0
      },
      "text/plain": [
       "  0%|          | 0/2687 [00:00<?, ?it/s]"
      ]
     },
     "metadata": {},
     "output_type": "display_data"
    },
    {
     "name": "stdout",
     "output_type": "stream",
     "text": [
      "-----------------\n",
      "alice_key='0000000110110000011010100010001001001011111101111011100011111010011100110101110110011110010101001111101000110111111101011100011110101111001010000101101000110010111110100001001100110100101100010001011000101110011001001100101110011101000101001100100111111000101110000011001001101001000000000011001000000111100010100001100110011000011110011011000010010000110100001000110110001110101100110101001000010011101111101001101010110111111111000101000000101100111101011011011011011'\n",
      "bob_key='0000000110110000011010100010001001001011111101111011100011111010011100110101110110011110010101001111101000110111111101011100011110101111001010000101101000110010111110100001001100110100101100010001011000101110011001001100101110011101000101001100100111111000101110000011001001101001000000000011001000000111100010100001100110011000011110011011000010010000110100001000110110001110101100110101001000010011101111101001101010110111111111000101000000101100111101011011011011011'\n",
      "alice_key_hex='0x360d44497ef71f4e6bb3ca9f46feb8f5e50b465f42669622c5cc9973a2993f17064d200640f143330f36121a11b1d66a4277d356ff8a059eb6db'\n",
      "bob_key_hex='0x360d44497ef71f4e6bb3ca9f46feb8f5e50b465f42669622c5cc9973a2993f17064d200640f143330f36121a11b1d66a4277d356ff8a059eb6db'\n",
      "-----------------\n",
      "key_size = 469 bits\n",
      "error_rate = 0.0\n",
      "secret_key_rate = 190500.0 bits/second\n"
     ]
    }
   ],
   "source": [
    "desired_key_size = 512\n",
    "alice_key, bob_key, alice_key_hex, bob_key_hex, secret_key_rate = generate_key(desired_key_size, NO_LOSS)\n",
    "key_size = len(alice_key)\n",
    "error_rate = calculate_error_rate(alice_key, bob_key)\n",
    "\n",
    "print(\"-----------------\")\n",
    "print(f\"{alice_key=}\")\n",
    "print(f\"{bob_key=}\")\n",
    "\n",
    "print(f\"{alice_key_hex=}\")\n",
    "print(f\"{bob_key_hex=}\")\n",
    "\n",
    "print(\"-----------------\")\n",
    "print(f\"{key_size = } bits\")\n",
    "print(f\"{error_rate = }\")\n",
    "print(f\"{secret_key_rate = } bits/second\")"
   ]
  },
  {
   "cell_type": "markdown",
   "metadata": {},
   "source": [
    "#### State of the Art"
   ]
  },
  {
   "cell_type": "code",
   "execution_count": 10,
   "metadata": {},
   "outputs": [
    {
     "name": "stdout",
     "output_type": "stream",
     "text": [
      "Calculating bits per photon...\n"
     ]
    },
    {
     "data": {
      "application/vnd.jupyter.widget-view+json": {
       "model_id": "41563c0536ce46f4a98039b3b13c47b4",
       "version_major": 2,
       "version_minor": 0
      },
      "text/plain": [
       "  0%|          | 0/9 [00:00<?, ?it/s]"
      ]
     },
     "metadata": {},
     "output_type": "display_data"
    },
    {
     "name": "stdout",
     "output_type": "stream",
     "text": [
      "avg_key_rate=0.1869\n",
      "std_key_rate=0.007\n",
      "Time to run: 2.35 seconds\n",
      "----------------------------------\n",
      "Calculating photon simulation rate...\n"
     ]
    },
    {
     "data": {
      "application/vnd.jupyter.widget-view+json": {
       "model_id": "2087d9ae8f2f4048b86cf08172fbf136",
       "version_major": 2,
       "version_minor": 0
      },
      "text/plain": [
       "  0%|          | 0/9 [00:00<?, ?it/s]"
      ]
     },
     "metadata": {},
     "output_type": "display_data"
    },
    {
     "name": "stdout",
     "output_type": "stream",
     "text": [
      "avg_time_per_step=4.9e-05\n",
      "std_time_per_step=6e-06\n",
      "Time to run: 0.48 seconds\n",
      "----------------------------------\n",
      "Generating target_key_size=512 by simulating steps=2739 with bits_per_photon=0.1869 \n",
      "\n",
      "Simulating experiment with estimated_photon_simulation_rate=4.9e-05 seconds\n"
     ]
    },
    {
     "data": {
      "application/vnd.jupyter.widget-view+json": {
       "model_id": "8e37add643ba473fa3af5ad00f84c967",
       "version_major": 2,
       "version_minor": 0
      },
      "text/plain": [
       "  0%|          | 0/2739 [00:00<?, ?it/s]"
      ]
     },
     "metadata": {},
     "output_type": "display_data"
    },
    {
     "name": "stdout",
     "output_type": "stream",
     "text": [
      "-----------------\n",
      "alice_key='11110011001111111111101010000000011101011100000001111110000010101010101011000100011000110011111010000001001111001100001101011010101111111010001111010110000110010110011110101000000111011011010001100111111010110010110110110101010100111111001010101010001011000111010010001001100010010000000011011001001101110001110110100111000100111110010110001111101000010100010010000001110101000001010011110111000100011111100110001100011100011111101111110010110011010000010011000101011001101110100111101011101110'\n",
      "bob_key='11110011001111111111101010000000011101011100000001111110000010101010101011000100011000110011111010000001001111001100001101011010101111111010001111010110000110010110011110101000000111011011010001100111111010110010110110110101010100111111001010101010001011000111010010001001100010010000000011011001001101110001110110100111000100111110010110001111101000010100010010000001110101000001010011110111000100011111100110001100011100011111101111110010110011010000010011000101011001101110100111101011101110'\n",
      "alice_key_hex='0x3ccffea01d701f82aab118cfa04f30d6afe8f58659ea076d19facb6d54fcaa8b1d226240364dc769c4f963e8512075053dc47e631c7efcb3413159ba7aee'\n",
      "bob_key_hex='0x3ccffea01d701f82aab118cfa04f30d6afe8f58659ea076d19facb6d54fcaa8b1d226240364dc769c4f963e8512075053dc47e631c7efcb3413159ba7aee'\n",
      "-----------------\n",
      "key_size = 494 bits\n",
      "error_rate = 0.0\n",
      "secret_key_rate = 9.345 bits/second\n"
     ]
    }
   ],
   "source": [
    "desired_key_size = 512\n",
    "alice_key, bob_key, alice_key_hex, bob_key_hex, secret_key_rate = generate_key(desired_key_size, STATE_OF_THE_ART_LOSS)\n",
    "key_size = len(alice_key)\n",
    "error_rate = calculate_error_rate(alice_key, bob_key)\n",
    "\n",
    "print(\"-----------------\")\n",
    "print(f\"{alice_key=}\")\n",
    "print(f\"{bob_key=}\")\n",
    "\n",
    "print(f\"{alice_key_hex=}\")\n",
    "print(f\"{bob_key_hex=}\")\n",
    "\n",
    "print(\"-----------------\")\n",
    "print(f\"{key_size = } bits\")\n",
    "print(f\"{error_rate = }\")\n",
    "print(f\"{secret_key_rate = } bits/second\")"
   ]
  },
  {
   "cell_type": "markdown",
   "metadata": {},
   "source": [
    "#### 6.2410 Optics Lab"
   ]
  },
  {
   "cell_type": "code",
   "execution_count": 11,
   "metadata": {},
   "outputs": [
    {
     "name": "stdout",
     "output_type": "stream",
     "text": [
      "Calculating bits per photon...\n"
     ]
    },
    {
     "data": {
      "application/vnd.jupyter.widget-view+json": {
       "model_id": "a87616fdfe164002a2faa9fd0de80335",
       "version_major": 2,
       "version_minor": 0
      },
      "text/plain": [
       "  0%|          | 0/9 [00:00<?, ?it/s]"
      ]
     },
     "metadata": {},
     "output_type": "display_data"
    },
    {
     "name": "stdout",
     "output_type": "stream",
     "text": [
      "avg_key_rate=0.0015\n",
      "std_key_rate=0.0005\n",
      "Time to run: 2.05 seconds\n",
      "----------------------------------\n",
      "Calculating photon simulation rate...\n"
     ]
    },
    {
     "data": {
      "application/vnd.jupyter.widget-view+json": {
       "model_id": "fa1ad008be7b420abc5926b7f6a26cd7",
       "version_major": 2,
       "version_minor": 0
      },
      "text/plain": [
       "  0%|          | 0/9 [00:00<?, ?it/s]"
      ]
     },
     "metadata": {},
     "output_type": "display_data"
    },
    {
     "name": "stdout",
     "output_type": "stream",
     "text": [
      "avg_time_per_step=4.9e-05\n",
      "std_time_per_step=5e-06\n",
      "Time to run: 0.44 seconds\n",
      "----------------------------------\n",
      "Generating target_key_size=512 by simulating steps=341333 with bits_per_photon=0.0015 \n",
      "\n",
      "Simulating experiment with estimated_photon_simulation_rate=4.9e-05 seconds\n"
     ]
    },
    {
     "data": {
      "application/vnd.jupyter.widget-view+json": {
       "model_id": "2c111714b1874484957a001a9beb1d0c",
       "version_major": 2,
       "version_minor": 0
      },
      "text/plain": [
       "  0%|          | 0/341333 [00:00<?, ?it/s]"
      ]
     },
     "metadata": {},
     "output_type": "display_data"
    },
    {
     "name": "stdout",
     "output_type": "stream",
     "text": [
      "-----------------\n",
      "alice_key='0001100010110111011111011101010111100100011010110011100101111101001010100100111001100010110000110011001011100100011000101110100110000101000011010110110010001110000011001010101111111000100110110100001001110011110001010010100110011000000110100010110110100010101010100101111100010001111101000110111001011000100001110000001010000100011000101001101001111010110110010000101010101100101110010110000001001101000010111100100011101110001000101110100101001010110011000011010100011101011111000011010111000111100111001110110001001111100101101000010010000011001010011001001011001101101010111001011100011101001010'\n",
      "bob_key='0001100010110111011111011101010111100100011010110011100101111101001010100100111001100010110000110011001011100100011000101110100110000101000011010110110010001110000011001010101111111000100110110100001001110011110001010010100110011000000110100010110110100010101010100101111100010001111101000110111001011000100001110000001010000100011000101001101001111010110110010000101010101100101110010110000001001101000010111100100011101110001000101110100101001010110011000011010100011101011111000011010111000111100111001110110001001111100101101000010010000011001010011001001011001101101010111001011100011101001010'\n",
      "alice_key_hex='0x62ddf75791ace5f4a9398b0ccb918ba61435b23832afe26d09cf14a66068b68aa97c47d1b9621c0a118a69eb642ab2e581342f23b88ba52b30d475f0d71e73b13e5a120ca64b36ae5c74a'\n",
      "bob_key_hex='0x62ddf75791ace5f4a9398b0ccb918ba61435b23832afe26d09cf14a66068b68aa97c47d1b9621c0a118a69eb642ab2e581342f23b88ba52b30d475f0d71e73b13e5a120ca64b36ae5c74a'\n",
      "-----------------\n",
      "key_size = 598 bits\n",
      "error_rate = 0.0\n",
      "secret_key_rate = 0.0005 bits/second\n"
     ]
    }
   ],
   "source": [
    "desired_key_size = 512\n",
    "alice_key, bob_key, alice_key_hex, bob_key_hex, secret_key_rate = generate_key(desired_key_size, MIT_OPTICS_LAB_LOSS)\n",
    "key_size = len(alice_key)\n",
    "error_rate = calculate_error_rate(alice_key, bob_key)\n",
    "\n",
    "print(\"-----------------\")\n",
    "print(f\"{alice_key=}\")\n",
    "print(f\"{bob_key=}\")\n",
    "\n",
    "print(f\"{alice_key_hex=}\")\n",
    "print(f\"{bob_key_hex=}\")\n",
    "\n",
    "print(\"-----------------\")\n",
    "print(f\"{key_size = } bits\")\n",
    "print(f\"{error_rate = }\")\n",
    "print(f\"{secret_key_rate = } bits/second\")"
   ]
  },
  {
   "cell_type": "markdown",
   "metadata": {
    "tags": []
   },
   "source": [
    "## Visualizations"
   ]
  },
  {
   "cell_type": "markdown",
   "metadata": {
    "tags": []
   },
   "source": [
    "#### Helper Functions"
   ]
  },
  {
   "cell_type": "code",
   "execution_count": 12,
   "metadata": {},
   "outputs": [],
   "source": [
    "def calculate_key_rates_per_component(loss: ExperimentalLoss, component: str, n_iter=10):\n",
    "    assert hasattr(loss, component), f\"{component=} not an attribute of ExperimentalLoss\"\n",
    "    \n",
    "    x_vals = np.linspace(1/n_iter, 1, n_iter)\n",
    "    key_rates = []\n",
    "    \n",
    "    for x in tqdm(x_vals, desc=f\"{component=}\", position=1, leave=False):\n",
    "        setattr(loss, component, x)\n",
    "        key_rate = calculate_key_rate(loss)\n",
    "        \n",
    "        # print(component, x, key_rate)\n",
    "        \n",
    "        key_rates.append(key_rate)\n",
    "    \n",
    "    return x_vals, key_rates\n",
    "\n",
    "\n",
    "def calculate_key_rates_for_polarization_rotations(loss: ExperimentalLoss, n_iter=100):\n",
    "    \n",
    "    milliseconds = np.linspace(20, 3000, n_iter)  # 20ms to 3s\n",
    "    x_vals = milliseconds / 1000 \n",
    "    key_rates = []\n",
    "    \n",
    "    for x in tqdm(x_vals, desc=f\"component=polarizer_switching_time_s\", position=1, leave=False):\n",
    "        loss.polarizer_switching_time_s = x\n",
    "        key_rate = calculate_key_rate(loss)\n",
    "\n",
    "        key_rates.append(key_rate)\n",
    "    \n",
    "    return x_vals, key_rates\n",
    "\n",
    "\n",
    "def plot_key_rate_vs_component_efficiency(loss: ExperimentalLoss, save_fig=True):\n",
    "    fig, axs = plt.subplots(4, 3, figsize=(12, 12), sharey=True) \n",
    "    \n",
    "\n",
    "    for i, field_name in tqdm(enumerate(loss.field_names), total=len(loss.field_names)):\n",
    "        \n",
    "        if i < 9:\n",
    "            ax = axs[i // 3, i % 3]\n",
    "            x_vals, key_rates = calculate_key_rates_per_component(loss, field_name, n_iter=20)\n",
    "        else:\n",
    "            ax = plt.subplot2grid((4, 3), (3, 0), colspan=3)\n",
    "            x_vals, key_rates = calculate_key_rates_for_polarization_rotations(loss, n_iter=100)\n",
    "            # break;\n",
    "        \n",
    "        ax.plot(x_vals, key_rates)\n",
    "        ax.set_xlabel(f'{ExperimentalLoss.get_display_name(field_name)}')\n",
    "        ax.set_ylabel('Key Rate')\n",
    "        \n",
    "    if i < 8:\n",
    "        for j in range(i + 1, 9):\n",
    "            fig.delaxes(axs[j // 3, j % 3])\n",
    "\n",
    "    fig.suptitle('Key Rate vs Component Efficiency', fontsize=16, fontweight='bold')\n",
    "    \n",
    "    plt.subplots_adjust(hspace=0.3, wspace=0.4)\n",
    "    plt.show()\n",
    "    \n",
    "    if save_fig:\n",
    "        fig.savefig('images/key_rate_vs_component_efficiency.png')\n",
    "        \n",
    "    return fig"
   ]
  },
  {
   "cell_type": "markdown",
   "metadata": {
    "tags": []
   },
   "source": [
    "#### Secret Key Rate vs Component Efficiency"
   ]
  },
  {
   "cell_type": "markdown",
   "metadata": {},
   "source": [
    "Note: plot_key_rate_vs_component_efficiency(loss; ExperimentalLoss) modifies the state of the input loss object so ensure you reset it after use"
   ]
  },
  {
   "cell_type": "code",
   "execution_count": 13,
   "metadata": {},
   "outputs": [
    {
     "data": {
      "application/vnd.jupyter.widget-view+json": {
       "model_id": "a3fe5900413f4d1e9a134401e16b5767",
       "version_major": 2,
       "version_minor": 0
      },
      "text/plain": [
       "  0%|          | 0/10 [00:00<?, ?it/s]"
      ]
     },
     "metadata": {},
     "output_type": "display_data"
    },
    {
     "data": {
      "application/vnd.jupyter.widget-view+json": {
       "model_id": "",
       "version_major": 2,
       "version_minor": 0
      },
      "text/plain": [
       "component='e_d':   0%|          | 0/20 [00:00<?, ?it/s]"
      ]
     },
     "metadata": {},
     "output_type": "display_data"
    },
    {
     "data": {
      "application/vnd.jupyter.widget-view+json": {
       "model_id": "",
       "version_major": 2,
       "version_minor": 0
      },
      "text/plain": [
       "component='e_pbs1':   0%|          | 0/20 [00:00<?, ?it/s]"
      ]
     },
     "metadata": {},
     "output_type": "display_data"
    },
    {
     "data": {
      "application/vnd.jupyter.widget-view+json": {
       "model_id": "",
       "version_major": 2,
       "version_minor": 0
      },
      "text/plain": [
       "component='e_pbs2':   0%|          | 0/20 [00:00<?, ?it/s]"
      ]
     },
     "metadata": {},
     "output_type": "display_data"
    },
    {
     "data": {
      "application/vnd.jupyter.widget-view+json": {
       "model_id": "",
       "version_major": 2,
       "version_minor": 0
      },
      "text/plain": [
       "component='e_bs50':   0%|          | 0/20 [00:00<?, ?it/s]"
      ]
     },
     "metadata": {},
     "output_type": "display_data"
    },
    {
     "data": {
      "application/vnd.jupyter.widget-view+json": {
       "model_id": "",
       "version_major": 2,
       "version_minor": 0
      },
      "text/plain": [
       "component='e_fff':   0%|          | 0/20 [00:00<?, ?it/s]"
      ]
     },
     "metadata": {},
     "output_type": "display_data"
    },
    {
     "data": {
      "application/vnd.jupyter.widget-view+json": {
       "model_id": "",
       "version_major": 2,
       "version_minor": 0
      },
      "text/plain": [
       "component='e_hwp_a':   0%|          | 0/20 [00:00<?, ?it/s]"
      ]
     },
     "metadata": {},
     "output_type": "display_data"
    },
    {
     "data": {
      "application/vnd.jupyter.widget-view+json": {
       "model_id": "",
       "version_major": 2,
       "version_minor": 0
      },
      "text/plain": [
       "component='e_qwp_a':   0%|          | 0/20 [00:00<?, ?it/s]"
      ]
     },
     "metadata": {},
     "output_type": "display_data"
    },
    {
     "data": {
      "application/vnd.jupyter.widget-view+json": {
       "model_id": "",
       "version_major": 2,
       "version_minor": 0
      },
      "text/plain": [
       "component='e_hwp_b':   0%|          | 0/20 [00:00<?, ?it/s]"
      ]
     },
     "metadata": {},
     "output_type": "display_data"
    },
    {
     "data": {
      "application/vnd.jupyter.widget-view+json": {
       "model_id": "",
       "version_major": 2,
       "version_minor": 0
      },
      "text/plain": [
       "component='e_qwp_b':   0%|          | 0/20 [00:00<?, ?it/s]"
      ]
     },
     "metadata": {},
     "output_type": "display_data"
    },
    {
     "data": {
      "application/vnd.jupyter.widget-view+json": {
       "model_id": "",
       "version_major": 2,
       "version_minor": 0
      },
      "text/plain": [
       "component=polarizer_switching_time_s:   0%|          | 0/100 [00:00<?, ?it/s]"
      ]
     },
     "metadata": {},
     "output_type": "display_data"
    },
    {
     "data": {
      "image/png": "[encoded data removed]",
      "text/plain": [
       "<Figure size 864x864 with 10 Axes>"
      ]
     },
     "metadata": {
      "needs_background": "light"
     },
     "output_type": "display_data"
    }
   ],
   "source": [
    "NO_LOSS_TEMP = ExperimentalLoss(\n",
    "    e_d = 1,      \n",
    "    e_pbs1 = 1,    \n",
    "    e_pbs2 = 1,   \n",
    "    e_bs50 = 1,    \n",
    "    e_fff = 1,\n",
    "    \n",
    "    e_hwp_a = 1,  \n",
    "    e_qwp_a = 1, \n",
    "    e_hwp_b = 1,  \n",
    "    e_qwp_b = 1,\n",
    "    \n",
    "    polarizer_switching_time_s = 20e-3  # photon generation rate of the detector is 10^5 photon/s,\n",
    ")\n",
    "\n",
    "fig = plot_key_rate_vs_component_efficiency(NO_LOSS_TEMP, save_fig=True)"
   ]
  },
  {
   "cell_type": "markdown",
   "metadata": {},
   "source": [
    "TODO: \n",
    "- Characterize 3 levels of each component (cheap, average, expensive) and run through every combination of components. Plot key rate as a function of cost based on total components"
   ]
  },
  {
   "cell_type": "code",
   "execution_count": 16,
   "metadata": {},
   "outputs": [],
   "source": [
    "half_wave_plate = {\n",
    "    \"cheap\": 0,\n",
    "    \"avg\": 0,\n",
    "    \"state_of_the_art\": 0\n",
    "}  # different motor speeds\n",
    "\n",
    "detectors = {\n",
    "    \"cheap\": 0,\n",
    "    \"avg\": 0,\n",
    "    \"state_of_the_art\": 0\n",
    "}\n",
    "\n",
    "\n",
    "NO_LOSS = ExperimentalLoss(\n",
    "    e_d = 1,      \n",
    "    e_pbs1 = 1,    \n",
    "    e_pbs2 = 1,   \n",
    "    e_bs50 = 1,    \n",
    "    e_fff = 1,\n",
    "    \n",
    "    e_hwp_a = 1,  \n",
    "    e_qwp_a = 1, \n",
    "    e_hwp_b = 1,  \n",
    "    e_qwp_b = 1,\n",
    "    \n",
    "    polarizer_switching_time_s = 1e-6  # photon generation rate of the detector is 10^5 photon/s,\n",
    ")"
   ]
  },
  {
   "cell_type": "markdown",
   "metadata": {},
   "source": [
    "## Testing"
   ]
  },
  {
   "cell_type": "markdown",
   "metadata": {},
   "source": [
    "#### Same Basis"
   ]
  },
  {
   "cell_type": "code",
   "execution_count": 17,
   "metadata": {},
   "outputs": [
    {
     "name": "stdout",
     "output_type": "stream",
     "text": [
      "H, H: True\n",
      "H, V: True\n",
      "H, D: False\n",
      "H, A: False\n",
      "V, H: True\n",
      "V, V: True\n",
      "V, D: False\n",
      "V, A: False\n",
      "D, H: False\n",
      "D, V: False\n",
      "D, D: True\n",
      "D, A: True\n",
      "A, H: False\n",
      "A, V: False\n",
      "A, D: True\n",
      "A, A: True\n"
     ]
    }
   ],
   "source": [
    "for alice in States:\n",
    "    for bob in States:\n",
    "        \n",
    "        same_basis = alice.basis == bob.basis\n",
    "        \n",
    "        print(f\"{alice.name}, {bob.name}: {same_basis}\")"
   ]
  },
  {
   "cell_type": "markdown",
   "metadata": {
    "tags": []
   },
   "source": [
    "#### Detector Averages"
   ]
  },
  {
   "cell_type": "code",
   "execution_count": 18,
   "metadata": {},
   "outputs": [],
   "source": [
    "steps = 100000\n",
    "\n",
    "\n",
    "outputs = {\n",
    "    \"Alice\": [],\n",
    "    \"Bob\": [],\n",
    "    \"d1v\": [],\n",
    "    \"d1h\": [],\n",
    "    \"d2v\": [],\n",
    "    \"d2h\": []\n",
    "}\n",
    "\n",
    "def simulate_detector_counts(alice: States, bob: States, loss: ExperimentalLoss) -> Measurement:\n",
    "    \n",
    "    alice_loss = loss.e_fff * loss.e_hwp_a * loss.e_qwp_a\n",
    "    bob_loss = loss.e_fff * loss.e_hwp_b * loss.e_qwp_b\n",
    "    \n",
    "    detector_weights = [\n",
    "        loss.e_d * N1v(*alice.loss_value(alice_loss), *bob.loss_value(bob_loss), loss.e_bs50, loss.e_pbs1),\n",
    "        loss.e_d * N1h(*alice.loss_value(alice_loss), *bob.loss_value(bob_loss), loss.e_bs50, loss.e_pbs1),\n",
    "        loss.e_d * N2v(*alice.loss_value(alice_loss), *bob.loss_value(bob_loss), loss.e_bs50, loss.e_pbs2),\n",
    "        loss.e_d * N2h(*alice.loss_value(alice_loss), *bob.loss_value(bob_loss), loss.e_bs50, loss.e_pbs2),\n",
    "    ]\n",
    "    \n",
    "    scale_factor = 2 / sum(detector_weights)\n",
    "    scaled_detector_weights = [scale_factor * weight for weight in detector_weights]\n",
    "    \n",
    "    detector_hits = random.choices([\"d1v\", \"d1h\", \"d2v\", \"d2h\"], weights=scaled_detector_weights, k=2)\n",
    "\n",
    "    is_valid = random.random() <= 1/scale_factor\n",
    "    d1v = detector_hits.count(\"d1v\") if is_valid else 0\n",
    "    d1h = detector_hits.count(\"d1h\") if is_valid else 0\n",
    "    d2v = detector_hits.count(\"d2v\") if is_valid else 0\n",
    "    d2h = detector_hits.count(\"d2h\") if is_valid else 0\n",
    "    \n",
    "    return d1v, d1h, d2v, d2h\n",
    "\n",
    "    \n",
    "    \n",
    "\n",
    "def simulate_detector_count_averages(loss: ExperimentalLoss): \n",
    "    \n",
    "    outputs = {\n",
    "        \"Alice\": [],\n",
    "        \"Bob\": [],\n",
    "        \"d1v\": [],\n",
    "        \"d1h\": [],\n",
    "        \"d2v\": [],\n",
    "        \"d2h\": []\n",
    "    }\n",
    "    \n",
    "    \n",
    "    for alice in tqdm(States, desc=f\"Alice\"):\n",
    "        for bob in tqdm(States, desc=f\"Bob\", position=1):\n",
    "            \n",
    "            d1v = 0\n",
    "            d1h = 0\n",
    "            d2v = 0\n",
    "            d2h = 0\n",
    "            for i in tqdm(range(steps), desc=f\"steps\", position=2, leave=False):\n",
    "                _d1v, _d1h, _d2v, _d2h = simulate_detector_counts(alice, bob, loss)\n",
    "                \n",
    "                d1v += _d1v\n",
    "                d1h += _d1h\n",
    "                d2v += _d2v\n",
    "                d2h += _d2h\n",
    "\n",
    "\n",
    "            outputs[\"Alice\"].append(alice)\n",
    "            outputs[\"Bob\"].append(bob)\n",
    "\n",
    "\n",
    "            outputs['d1v'].append(round(d1v/steps, 4))\n",
    "            outputs['d1h'].append(round(d1h/steps, 4))\n",
    "            outputs['d2v'].append(round(d2v/steps, 4))\n",
    "            outputs['d2h'].append(round(d2h/steps, 4))\n",
    "        \n",
    "    df = pd.DataFrame(outputs)  \n",
    "    df = df.set_index([\"Alice\", \"Bob\"])  \n",
    "    \n",
    "    return df"
   ]
  },
  {
   "cell_type": "code",
   "execution_count": 19,
   "metadata": {},
   "outputs": [
    {
     "data": {
      "application/vnd.jupyter.widget-view+json": {
       "model_id": "b743340b572147e5a2d6ce6d8c051344",
       "version_major": 2,
       "version_minor": 0
      },
      "text/plain": [
       "Alice:   0%|          | 0/4 [00:00<?, ?it/s]"
      ]
     },
     "metadata": {},
     "output_type": "display_data"
    },
    {
     "data": {
      "application/vnd.jupyter.widget-view+json": {
       "model_id": "e75838d3defe4847aa0d844b8f73f81a",
       "version_major": 2,
       "version_minor": 0
      },
      "text/plain": [
       "Bob:   0%|          | 0/4 [00:00<?, ?it/s]"
      ]
     },
     "metadata": {},
     "output_type": "display_data"
    },
    {
     "data": {
      "application/vnd.jupyter.widget-view+json": {
       "model_id": "",
       "version_major": 2,
       "version_minor": 0
      },
      "text/plain": [
       "steps:   0%|          | 0/100000 [00:00<?, ?it/s]"
      ]
     },
     "metadata": {},
     "output_type": "display_data"
    },
    {
     "data": {
      "application/vnd.jupyter.widget-view+json": {
       "model_id": "",
       "version_major": 2,
       "version_minor": 0
      },
      "text/plain": [
       "steps:   0%|          | 0/100000 [00:00<?, ?it/s]"
      ]
     },
     "metadata": {},
     "output_type": "display_data"
    },
    {
     "data": {
      "application/vnd.jupyter.widget-view+json": {
       "model_id": "",
       "version_major": 2,
       "version_minor": 0
      },
      "text/plain": [
       "steps:   0%|          | 0/100000 [00:00<?, ?it/s]"
      ]
     },
     "metadata": {},
     "output_type": "display_data"
    },
    {
     "data": {
      "application/vnd.jupyter.widget-view+json": {
       "model_id": "",
       "version_major": 2,
       "version_minor": 0
      },
      "text/plain": [
       "steps:   0%|          | 0/100000 [00:00<?, ?it/s]"
      ]
     },
     "metadata": {},
     "output_type": "display_data"
    },
    {
     "data": {
      "application/vnd.jupyter.widget-view+json": {
       "model_id": "cae71f3616334718b1162c10f07e188c",
       "version_major": 2,
       "version_minor": 0
      },
      "text/plain": [
       "Bob:   0%|          | 0/4 [00:00<?, ?it/s]"
      ]
     },
     "metadata": {},
     "output_type": "display_data"
    },
    {
     "data": {
      "application/vnd.jupyter.widget-view+json": {
       "model_id": "",
       "version_major": 2,
       "version_minor": 0
      },
      "text/plain": [
       "steps:   0%|          | 0/100000 [00:00<?, ?it/s]"
      ]
     },
     "metadata": {},
     "output_type": "display_data"
    },
    {
     "data": {
      "application/vnd.jupyter.widget-view+json": {
       "model_id": "",
       "version_major": 2,
       "version_minor": 0
      },
      "text/plain": [
       "steps:   0%|          | 0/100000 [00:00<?, ?it/s]"
      ]
     },
     "metadata": {},
     "output_type": "display_data"
    },
    {
     "data": {
      "application/vnd.jupyter.widget-view+json": {
       "model_id": "",
       "version_major": 2,
       "version_minor": 0
      },
      "text/plain": [
       "steps:   0%|          | 0/100000 [00:00<?, ?it/s]"
      ]
     },
     "metadata": {},
     "output_type": "display_data"
    },
    {
     "data": {
      "application/vnd.jupyter.widget-view+json": {
       "model_id": "",
       "version_major": 2,
       "version_minor": 0
      },
      "text/plain": [
       "steps:   0%|          | 0/100000 [00:00<?, ?it/s]"
      ]
     },
     "metadata": {},
     "output_type": "display_data"
    },
    {
     "data": {
      "application/vnd.jupyter.widget-view+json": {
       "model_id": "e7397ebf82a24f63b5c7de5203968031",
       "version_major": 2,
       "version_minor": 0
      },
      "text/plain": [
       "Bob:   0%|          | 0/4 [00:00<?, ?it/s]"
      ]
     },
     "metadata": {},
     "output_type": "display_data"
    },
    {
     "data": {
      "application/vnd.jupyter.widget-view+json": {
       "model_id": "",
       "version_major": 2,
       "version_minor": 0
      },
      "text/plain": [
       "steps:   0%|          | 0/100000 [00:00<?, ?it/s]"
      ]
     },
     "metadata": {},
     "output_type": "display_data"
    },
    {
     "data": {
      "application/vnd.jupyter.widget-view+json": {
       "model_id": "",
       "version_major": 2,
       "version_minor": 0
      },
      "text/plain": [
       "steps:   0%|          | 0/100000 [00:00<?, ?it/s]"
      ]
     },
     "metadata": {},
     "output_type": "display_data"
    },
    {
     "data": {
      "application/vnd.jupyter.widget-view+json": {
       "model_id": "",
       "version_major": 2,
       "version_minor": 0
      },
      "text/plain": [
       "steps:   0%|          | 0/100000 [00:00<?, ?it/s]"
      ]
     },
     "metadata": {},
     "output_type": "display_data"
    },
    {
     "data": {
      "application/vnd.jupyter.widget-view+json": {
       "model_id": "",
       "version_major": 2,
       "version_minor": 0
      },
      "text/plain": [
       "steps:   0%|          | 0/100000 [00:00<?, ?it/s]"
      ]
     },
     "metadata": {},
     "output_type": "display_data"
    },
    {
     "data": {
      "application/vnd.jupyter.widget-view+json": {
       "model_id": "0deae357ab644020872ac751088f5cd1",
       "version_major": 2,
       "version_minor": 0
      },
      "text/plain": [
       "Bob:   0%|          | 0/4 [00:00<?, ?it/s]"
      ]
     },
     "metadata": {},
     "output_type": "display_data"
    },
    {
     "data": {
      "application/vnd.jupyter.widget-view+json": {
       "model_id": "",
       "version_major": 2,
       "version_minor": 0
      },
      "text/plain": [
       "steps:   0%|          | 0/100000 [00:00<?, ?it/s]"
      ]
     },
     "metadata": {},
     "output_type": "display_data"
    },
    {
     "data": {
      "application/vnd.jupyter.widget-view+json": {
       "model_id": "",
       "version_major": 2,
       "version_minor": 0
      },
      "text/plain": [
       "steps:   0%|          | 0/100000 [00:00<?, ?it/s]"
      ]
     },
     "metadata": {},
     "output_type": "display_data"
    },
    {
     "data": {
      "application/vnd.jupyter.widget-view+json": {
       "model_id": "",
       "version_major": 2,
       "version_minor": 0
      },
      "text/plain": [
       "steps:   0%|          | 0/100000 [00:00<?, ?it/s]"
      ]
     },
     "metadata": {},
     "output_type": "display_data"
    },
    {
     "data": {
      "application/vnd.jupyter.widget-view+json": {
       "model_id": "",
       "version_major": 2,
       "version_minor": 0
      },
      "text/plain": [
       "steps:   0%|          | 0/100000 [00:00<?, ?it/s]"
      ]
     },
     "metadata": {},
     "output_type": "display_data"
    },
    {
     "data": {
      "text/html": [
       "<div>\n",
       "<style scoped>\n",
       "    .dataframe tbody tr th:only-of-type {\n",
       "        vertical-align: middle;\n",
       "    }\n",
       "\n",
       "    .dataframe tbody tr th {\n",
       "        vertical-align: top;\n",
       "    }\n",
       "\n",
       "    .dataframe thead th {\n",
       "        text-align: right;\n",
       "    }\n",
       "</style>\n",
       "<table border=\"1\" class=\"dataframe\">\n",
       "  <thead>\n",
       "    <tr style=\"text-align: right;\">\n",
       "      <th></th>\n",
       "      <th></th>\n",
       "      <th>d1v</th>\n",
       "      <th>d1h</th>\n",
       "      <th>d2v</th>\n",
       "      <th>d2h</th>\n",
       "    </tr>\n",
       "    <tr>\n",
       "      <th>Alice</th>\n",
       "      <th>Bob</th>\n",
       "      <th></th>\n",
       "      <th></th>\n",
       "      <th></th>\n",
       "      <th></th>\n",
       "    </tr>\n",
       "  </thead>\n",
       "  <tbody>\n",
       "    <tr>\n",
       "      <th rowspan=\"4\" valign=\"top\">States.H</th>\n",
       "      <th>States.H</th>\n",
       "      <td>0.0000</td>\n",
       "      <td>0.0000</td>\n",
       "      <td>0.0000</td>\n",
       "      <td>2.0000</td>\n",
       "    </tr>\n",
       "    <tr>\n",
       "      <th>States.V</th>\n",
       "      <td>0.5001</td>\n",
       "      <td>0.4992</td>\n",
       "      <td>0.4996</td>\n",
       "      <td>0.5012</td>\n",
       "    </tr>\n",
       "    <tr>\n",
       "      <th>States.D</th>\n",
       "      <td>0.2514</td>\n",
       "      <td>0.0431</td>\n",
       "      <td>0.2489</td>\n",
       "      <td>1.4566</td>\n",
       "    </tr>\n",
       "    <tr>\n",
       "      <th>States.A</th>\n",
       "      <td>0.2514</td>\n",
       "      <td>0.0428</td>\n",
       "      <td>0.2501</td>\n",
       "      <td>1.4558</td>\n",
       "    </tr>\n",
       "    <tr>\n",
       "      <th rowspan=\"4\" valign=\"top\">States.V</th>\n",
       "      <th>States.H</th>\n",
       "      <td>0.5040</td>\n",
       "      <td>0.4966</td>\n",
       "      <td>0.4998</td>\n",
       "      <td>0.4996</td>\n",
       "    </tr>\n",
       "    <tr>\n",
       "      <th>States.V</th>\n",
       "      <td>0.0000</td>\n",
       "      <td>0.0000</td>\n",
       "      <td>2.0000</td>\n",
       "      <td>0.0000</td>\n",
       "    </tr>\n",
       "    <tr>\n",
       "      <th>States.D</th>\n",
       "      <td>0.0422</td>\n",
       "      <td>0.2501</td>\n",
       "      <td>1.4565</td>\n",
       "      <td>0.2513</td>\n",
       "    </tr>\n",
       "    <tr>\n",
       "      <th>States.A</th>\n",
       "      <td>1.4548</td>\n",
       "      <td>0.2523</td>\n",
       "      <td>0.0427</td>\n",
       "      <td>0.2502</td>\n",
       "    </tr>\n",
       "    <tr>\n",
       "      <th rowspan=\"4\" valign=\"top\">States.D</th>\n",
       "      <th>States.H</th>\n",
       "      <td>0.2520</td>\n",
       "      <td>0.0429</td>\n",
       "      <td>0.2516</td>\n",
       "      <td>1.4536</td>\n",
       "    </tr>\n",
       "    <tr>\n",
       "      <th>States.V</th>\n",
       "      <td>0.0435</td>\n",
       "      <td>0.2501</td>\n",
       "      <td>1.4592</td>\n",
       "      <td>0.2472</td>\n",
       "    </tr>\n",
       "    <tr>\n",
       "      <th>States.D</th>\n",
       "      <td>0.0000</td>\n",
       "      <td>0.0000</td>\n",
       "      <td>1.0008</td>\n",
       "      <td>0.9992</td>\n",
       "    </tr>\n",
       "    <tr>\n",
       "      <th>States.A</th>\n",
       "      <td>1.0019</td>\n",
       "      <td>0.0000</td>\n",
       "      <td>0.0000</td>\n",
       "      <td>0.9981</td>\n",
       "    </tr>\n",
       "    <tr>\n",
       "      <th rowspan=\"4\" valign=\"top\">States.A</th>\n",
       "      <th>States.H</th>\n",
       "      <td>0.2522</td>\n",
       "      <td>0.0433</td>\n",
       "      <td>0.2489</td>\n",
       "      <td>1.4556</td>\n",
       "    </tr>\n",
       "    <tr>\n",
       "      <th>States.V</th>\n",
       "      <td>1.4529</td>\n",
       "      <td>0.2519</td>\n",
       "      <td>0.0438</td>\n",
       "      <td>0.2515</td>\n",
       "    </tr>\n",
       "    <tr>\n",
       "      <th>States.D</th>\n",
       "      <td>1.0006</td>\n",
       "      <td>0.0000</td>\n",
       "      <td>0.0000</td>\n",
       "      <td>0.9994</td>\n",
       "    </tr>\n",
       "    <tr>\n",
       "      <th>States.A</th>\n",
       "      <td>0.0000</td>\n",
       "      <td>0.0000</td>\n",
       "      <td>0.9991</td>\n",
       "      <td>1.0009</td>\n",
       "    </tr>\n",
       "  </tbody>\n",
       "</table>\n",
       "</div>"
      ],
      "text/plain": [
       "                      d1v     d1h     d2v     d2h\n",
       "Alice    Bob                                     \n",
       "States.H States.H  0.0000  0.0000  0.0000  2.0000\n",
       "         States.V  0.5001  0.4992  0.4996  0.5012\n",
       "         States.D  0.2514  0.0431  0.2489  1.4566\n",
       "         States.A  0.2514  0.0428  0.2501  1.4558\n",
       "States.V States.H  0.5040  0.4966  0.4998  0.4996\n",
       "         States.V  0.0000  0.0000  2.0000  0.0000\n",
       "         States.D  0.0422  0.2501  1.4565  0.2513\n",
       "         States.A  1.4548  0.2523  0.0427  0.2502\n",
       "States.D States.H  0.2520  0.0429  0.2516  1.4536\n",
       "         States.V  0.0435  0.2501  1.4592  0.2472\n",
       "         States.D  0.0000  0.0000  1.0008  0.9992\n",
       "         States.A  1.0019  0.0000  0.0000  0.9981\n",
       "States.A States.H  0.2522  0.0433  0.2489  1.4556\n",
       "         States.V  1.4529  0.2519  0.0438  0.2515\n",
       "         States.D  1.0006  0.0000  0.0000  0.9994\n",
       "         States.A  0.0000  0.0000  0.9991  1.0009"
      ]
     },
     "execution_count": 19,
     "metadata": {},
     "output_type": "execute_result"
    }
   ],
   "source": [
    "simulate_detector_count_averages(NO_LOSS)"
   ]
  },
  {
   "cell_type": "code",
   "execution_count": 20,
   "metadata": {},
   "outputs": [
    {
     "data": {
      "application/vnd.jupyter.widget-view+json": {
       "model_id": "0f07522ef50b43cc82546cf883529235",
       "version_major": 2,
       "version_minor": 0
      },
      "text/plain": [
       "Alice:   0%|          | 0/4 [00:00<?, ?it/s]"
      ]
     },
     "metadata": {},
     "output_type": "display_data"
    },
    {
     "data": {
      "application/vnd.jupyter.widget-view+json": {
       "model_id": "146743f8450d4d8f83d7d80e358877b6",
       "version_major": 2,
       "version_minor": 0
      },
      "text/plain": [
       "Bob:   0%|          | 0/4 [00:00<?, ?it/s]"
      ]
     },
     "metadata": {},
     "output_type": "display_data"
    },
    {
     "data": {
      "application/vnd.jupyter.widget-view+json": {
       "model_id": "",
       "version_major": 2,
       "version_minor": 0
      },
      "text/plain": [
       "steps:   0%|          | 0/100000 [00:00<?, ?it/s]"
      ]
     },
     "metadata": {},
     "output_type": "display_data"
    },
    {
     "data": {
      "application/vnd.jupyter.widget-view+json": {
       "model_id": "",
       "version_major": 2,
       "version_minor": 0
      },
      "text/plain": [
       "steps:   0%|          | 0/100000 [00:00<?, ?it/s]"
      ]
     },
     "metadata": {},
     "output_type": "display_data"
    },
    {
     "data": {
      "application/vnd.jupyter.widget-view+json": {
       "model_id": "",
       "version_major": 2,
       "version_minor": 0
      },
      "text/plain": [
       "steps:   0%|          | 0/100000 [00:00<?, ?it/s]"
      ]
     },
     "metadata": {},
     "output_type": "display_data"
    },
    {
     "data": {
      "application/vnd.jupyter.widget-view+json": {
       "model_id": "",
       "version_major": 2,
       "version_minor": 0
      },
      "text/plain": [
       "steps:   0%|          | 0/100000 [00:00<?, ?it/s]"
      ]
     },
     "metadata": {},
     "output_type": "display_data"
    },
    {
     "data": {
      "application/vnd.jupyter.widget-view+json": {
       "model_id": "a2175c3ffb8f4165850c0329a9bb40a8",
       "version_major": 2,
       "version_minor": 0
      },
      "text/plain": [
       "Bob:   0%|          | 0/4 [00:00<?, ?it/s]"
      ]
     },
     "metadata": {},
     "output_type": "display_data"
    },
    {
     "data": {
      "application/vnd.jupyter.widget-view+json": {
       "model_id": "",
       "version_major": 2,
       "version_minor": 0
      },
      "text/plain": [
       "steps:   0%|          | 0/100000 [00:00<?, ?it/s]"
      ]
     },
     "metadata": {},
     "output_type": "display_data"
    },
    {
     "data": {
      "application/vnd.jupyter.widget-view+json": {
       "model_id": "",
       "version_major": 2,
       "version_minor": 0
      },
      "text/plain": [
       "steps:   0%|          | 0/100000 [00:00<?, ?it/s]"
      ]
     },
     "metadata": {},
     "output_type": "display_data"
    },
    {
     "data": {
      "application/vnd.jupyter.widget-view+json": {
       "model_id": "",
       "version_major": 2,
       "version_minor": 0
      },
      "text/plain": [
       "steps:   0%|          | 0/100000 [00:00<?, ?it/s]"
      ]
     },
     "metadata": {},
     "output_type": "display_data"
    },
    {
     "data": {
      "application/vnd.jupyter.widget-view+json": {
       "model_id": "",
       "version_major": 2,
       "version_minor": 0
      },
      "text/plain": [
       "steps:   0%|          | 0/100000 [00:00<?, ?it/s]"
      ]
     },
     "metadata": {},
     "output_type": "display_data"
    },
    {
     "data": {
      "application/vnd.jupyter.widget-view+json": {
       "model_id": "c18ab50f13c14ca7ba745158b88af4fa",
       "version_major": 2,
       "version_minor": 0
      },
      "text/plain": [
       "Bob:   0%|          | 0/4 [00:00<?, ?it/s]"
      ]
     },
     "metadata": {},
     "output_type": "display_data"
    },
    {
     "data": {
      "application/vnd.jupyter.widget-view+json": {
       "model_id": "",
       "version_major": 2,
       "version_minor": 0
      },
      "text/plain": [
       "steps:   0%|          | 0/100000 [00:00<?, ?it/s]"
      ]
     },
     "metadata": {},
     "output_type": "display_data"
    },
    {
     "data": {
      "application/vnd.jupyter.widget-view+json": {
       "model_id": "",
       "version_major": 2,
       "version_minor": 0
      },
      "text/plain": [
       "steps:   0%|          | 0/100000 [00:00<?, ?it/s]"
      ]
     },
     "metadata": {},
     "output_type": "display_data"
    },
    {
     "data": {
      "application/vnd.jupyter.widget-view+json": {
       "model_id": "",
       "version_major": 2,
       "version_minor": 0
      },
      "text/plain": [
       "steps:   0%|          | 0/100000 [00:00<?, ?it/s]"
      ]
     },
     "metadata": {},
     "output_type": "display_data"
    },
    {
     "data": {
      "application/vnd.jupyter.widget-view+json": {
       "model_id": "",
       "version_major": 2,
       "version_minor": 0
      },
      "text/plain": [
       "steps:   0%|          | 0/100000 [00:00<?, ?it/s]"
      ]
     },
     "metadata": {},
     "output_type": "display_data"
    },
    {
     "data": {
      "application/vnd.jupyter.widget-view+json": {
       "model_id": "bba4f9ae8a4f463a8a578bae0dff918f",
       "version_major": 2,
       "version_minor": 0
      },
      "text/plain": [
       "Bob:   0%|          | 0/4 [00:00<?, ?it/s]"
      ]
     },
     "metadata": {},
     "output_type": "display_data"
    },
    {
     "data": {
      "application/vnd.jupyter.widget-view+json": {
       "model_id": "",
       "version_major": 2,
       "version_minor": 0
      },
      "text/plain": [
       "steps:   0%|          | 0/100000 [00:00<?, ?it/s]"
      ]
     },
     "metadata": {},
     "output_type": "display_data"
    },
    {
     "data": {
      "application/vnd.jupyter.widget-view+json": {
       "model_id": "",
       "version_major": 2,
       "version_minor": 0
      },
      "text/plain": [
       "steps:   0%|          | 0/100000 [00:00<?, ?it/s]"
      ]
     },
     "metadata": {},
     "output_type": "display_data"
    },
    {
     "data": {
      "application/vnd.jupyter.widget-view+json": {
       "model_id": "",
       "version_major": 2,
       "version_minor": 0
      },
      "text/plain": [
       "steps:   0%|          | 0/100000 [00:00<?, ?it/s]"
      ]
     },
     "metadata": {},
     "output_type": "display_data"
    },
    {
     "data": {
      "application/vnd.jupyter.widget-view+json": {
       "model_id": "",
       "version_major": 2,
       "version_minor": 0
      },
      "text/plain": [
       "steps:   0%|          | 0/100000 [00:00<?, ?it/s]"
      ]
     },
     "metadata": {},
     "output_type": "display_data"
    },
    {
     "data": {
      "text/html": [
       "<div>\n",
       "<style scoped>\n",
       "    .dataframe tbody tr th:only-of-type {\n",
       "        vertical-align: middle;\n",
       "    }\n",
       "\n",
       "    .dataframe tbody tr th {\n",
       "        vertical-align: top;\n",
       "    }\n",
       "\n",
       "    .dataframe thead th {\n",
       "        text-align: right;\n",
       "    }\n",
       "</style>\n",
       "<table border=\"1\" class=\"dataframe\">\n",
       "  <thead>\n",
       "    <tr style=\"text-align: right;\">\n",
       "      <th></th>\n",
       "      <th></th>\n",
       "      <th>d1v</th>\n",
       "      <th>d1h</th>\n",
       "      <th>d2v</th>\n",
       "      <th>d2h</th>\n",
       "    </tr>\n",
       "    <tr>\n",
       "      <th>Alice</th>\n",
       "      <th>Bob</th>\n",
       "      <th></th>\n",
       "      <th></th>\n",
       "      <th></th>\n",
       "      <th></th>\n",
       "    </tr>\n",
       "  </thead>\n",
       "  <tbody>\n",
       "    <tr>\n",
       "      <th rowspan=\"4\" valign=\"top\">States.H</th>\n",
       "      <th>States.H</th>\n",
       "      <td>0.0000</td>\n",
       "      <td>0.0000</td>\n",
       "      <td>0.0000</td>\n",
       "      <td>0.0176</td>\n",
       "    </tr>\n",
       "    <tr>\n",
       "      <th>States.V</th>\n",
       "      <td>0.0048</td>\n",
       "      <td>0.0043</td>\n",
       "      <td>0.0043</td>\n",
       "      <td>0.0045</td>\n",
       "    </tr>\n",
       "    <tr>\n",
       "      <th>States.D</th>\n",
       "      <td>0.0020</td>\n",
       "      <td>0.0003</td>\n",
       "      <td>0.0023</td>\n",
       "      <td>0.0124</td>\n",
       "    </tr>\n",
       "    <tr>\n",
       "      <th>States.A</th>\n",
       "      <td>0.0020</td>\n",
       "      <td>0.0004</td>\n",
       "      <td>0.0027</td>\n",
       "      <td>0.0134</td>\n",
       "    </tr>\n",
       "    <tr>\n",
       "      <th rowspan=\"4\" valign=\"top\">States.V</th>\n",
       "      <th>States.H</th>\n",
       "      <td>0.0047</td>\n",
       "      <td>0.0048</td>\n",
       "      <td>0.0046</td>\n",
       "      <td>0.0043</td>\n",
       "    </tr>\n",
       "    <tr>\n",
       "      <th>States.V</th>\n",
       "      <td>0.0000</td>\n",
       "      <td>0.0000</td>\n",
       "      <td>0.0184</td>\n",
       "      <td>0.0000</td>\n",
       "    </tr>\n",
       "    <tr>\n",
       "      <th>States.D</th>\n",
       "      <td>0.0003</td>\n",
       "      <td>0.0024</td>\n",
       "      <td>0.0129</td>\n",
       "      <td>0.0027</td>\n",
       "    </tr>\n",
       "    <tr>\n",
       "      <th>States.A</th>\n",
       "      <td>0.0140</td>\n",
       "      <td>0.0024</td>\n",
       "      <td>0.0004</td>\n",
       "      <td>0.0023</td>\n",
       "    </tr>\n",
       "    <tr>\n",
       "      <th rowspan=\"4\" valign=\"top\">States.D</th>\n",
       "      <th>States.H</th>\n",
       "      <td>0.0021</td>\n",
       "      <td>0.0003</td>\n",
       "      <td>0.0024</td>\n",
       "      <td>0.0133</td>\n",
       "    </tr>\n",
       "    <tr>\n",
       "      <th>States.V</th>\n",
       "      <td>0.0005</td>\n",
       "      <td>0.0022</td>\n",
       "      <td>0.0134</td>\n",
       "      <td>0.0024</td>\n",
       "    </tr>\n",
       "    <tr>\n",
       "      <th>States.D</th>\n",
       "      <td>0.0000</td>\n",
       "      <td>0.0000</td>\n",
       "      <td>0.0094</td>\n",
       "      <td>0.0087</td>\n",
       "    </tr>\n",
       "    <tr>\n",
       "      <th>States.A</th>\n",
       "      <td>0.0093</td>\n",
       "      <td>0.0000</td>\n",
       "      <td>0.0000</td>\n",
       "      <td>0.0093</td>\n",
       "    </tr>\n",
       "    <tr>\n",
       "      <th rowspan=\"4\" valign=\"top\">States.A</th>\n",
       "      <th>States.H</th>\n",
       "      <td>0.0023</td>\n",
       "      <td>0.0003</td>\n",
       "      <td>0.0022</td>\n",
       "      <td>0.0128</td>\n",
       "    </tr>\n",
       "    <tr>\n",
       "      <th>States.V</th>\n",
       "      <td>0.0131</td>\n",
       "      <td>0.0023</td>\n",
       "      <td>0.0003</td>\n",
       "      <td>0.0022</td>\n",
       "    </tr>\n",
       "    <tr>\n",
       "      <th>States.D</th>\n",
       "      <td>0.0087</td>\n",
       "      <td>0.0000</td>\n",
       "      <td>0.0000</td>\n",
       "      <td>0.0094</td>\n",
       "    </tr>\n",
       "    <tr>\n",
       "      <th>States.A</th>\n",
       "      <td>0.0000</td>\n",
       "      <td>0.0000</td>\n",
       "      <td>0.0091</td>\n",
       "      <td>0.0089</td>\n",
       "    </tr>\n",
       "  </tbody>\n",
       "</table>\n",
       "</div>"
      ],
      "text/plain": [
       "                      d1v     d1h     d2v     d2h\n",
       "Alice    Bob                                     \n",
       "States.H States.H  0.0000  0.0000  0.0000  0.0176\n",
       "         States.V  0.0048  0.0043  0.0043  0.0045\n",
       "         States.D  0.0020  0.0003  0.0023  0.0124\n",
       "         States.A  0.0020  0.0004  0.0027  0.0134\n",
       "States.V States.H  0.0047  0.0048  0.0046  0.0043\n",
       "         States.V  0.0000  0.0000  0.0184  0.0000\n",
       "         States.D  0.0003  0.0024  0.0129  0.0027\n",
       "         States.A  0.0140  0.0024  0.0004  0.0023\n",
       "States.D States.H  0.0021  0.0003  0.0024  0.0133\n",
       "         States.V  0.0005  0.0022  0.0134  0.0024\n",
       "         States.D  0.0000  0.0000  0.0094  0.0087\n",
       "         States.A  0.0093  0.0000  0.0000  0.0093\n",
       "States.A States.H  0.0023  0.0003  0.0022  0.0128\n",
       "         States.V  0.0131  0.0023  0.0003  0.0022\n",
       "         States.D  0.0087  0.0000  0.0000  0.0094\n",
       "         States.A  0.0000  0.0000  0.0091  0.0089"
      ]
     },
     "execution_count": 20,
     "metadata": {},
     "output_type": "execute_result"
    }
   ],
   "source": [
    "simulate_detector_count_averages(MIT_OPTICS_LAB_LOSS)"
   ]
  },
  {
   "cell_type": "code",
   "execution_count": 21,
   "metadata": {},
   "outputs": [
    {
     "data": {
      "application/vnd.jupyter.widget-view+json": {
       "model_id": "b0778afcea6d43df970dda44c3086d25",
       "version_major": 2,
       "version_minor": 0
      },
      "text/plain": [
       "Alice:   0%|          | 0/4 [00:00<?, ?it/s]"
      ]
     },
     "metadata": {},
     "output_type": "display_data"
    },
    {
     "data": {
      "application/vnd.jupyter.widget-view+json": {
       "model_id": "2c94edaf051c4ac79bc7c8b566647fce",
       "version_major": 2,
       "version_minor": 0
      },
      "text/plain": [
       "Bob:   0%|          | 0/4 [00:00<?, ?it/s]"
      ]
     },
     "metadata": {},
     "output_type": "display_data"
    },
    {
     "data": {
      "application/vnd.jupyter.widget-view+json": {
       "model_id": "",
       "version_major": 2,
       "version_minor": 0
      },
      "text/plain": [
       "steps:   0%|          | 0/100000 [00:00<?, ?it/s]"
      ]
     },
     "metadata": {},
     "output_type": "display_data"
    },
    {
     "data": {
      "application/vnd.jupyter.widget-view+json": {
       "model_id": "",
       "version_major": 2,
       "version_minor": 0
      },
      "text/plain": [
       "steps:   0%|          | 0/100000 [00:00<?, ?it/s]"
      ]
     },
     "metadata": {},
     "output_type": "display_data"
    },
    {
     "data": {
      "application/vnd.jupyter.widget-view+json": {
       "model_id": "",
       "version_major": 2,
       "version_minor": 0
      },
      "text/plain": [
       "steps:   0%|          | 0/100000 [00:00<?, ?it/s]"
      ]
     },
     "metadata": {},
     "output_type": "display_data"
    },
    {
     "data": {
      "application/vnd.jupyter.widget-view+json": {
       "model_id": "",
       "version_major": 2,
       "version_minor": 0
      },
      "text/plain": [
       "steps:   0%|          | 0/100000 [00:00<?, ?it/s]"
      ]
     },
     "metadata": {},
     "output_type": "display_data"
    },
    {
     "data": {
      "application/vnd.jupyter.widget-view+json": {
       "model_id": "19d9ca98eb424e2dbdc8506f48e7bc2b",
       "version_major": 2,
       "version_minor": 0
      },
      "text/plain": [
       "Bob:   0%|          | 0/4 [00:00<?, ?it/s]"
      ]
     },
     "metadata": {},
     "output_type": "display_data"
    },
    {
     "data": {
      "application/vnd.jupyter.widget-view+json": {
       "model_id": "",
       "version_major": 2,
       "version_minor": 0
      },
      "text/plain": [
       "steps:   0%|          | 0/100000 [00:00<?, ?it/s]"
      ]
     },
     "metadata": {},
     "output_type": "display_data"
    },
    {
     "data": {
      "application/vnd.jupyter.widget-view+json": {
       "model_id": "",
       "version_major": 2,
       "version_minor": 0
      },
      "text/plain": [
       "steps:   0%|          | 0/100000 [00:00<?, ?it/s]"
      ]
     },
     "metadata": {},
     "output_type": "display_data"
    },
    {
     "data": {
      "application/vnd.jupyter.widget-view+json": {
       "model_id": "",
       "version_major": 2,
       "version_minor": 0
      },
      "text/plain": [
       "steps:   0%|          | 0/100000 [00:00<?, ?it/s]"
      ]
     },
     "metadata": {},
     "output_type": "display_data"
    },
    {
     "data": {
      "application/vnd.jupyter.widget-view+json": {
       "model_id": "",
       "version_major": 2,
       "version_minor": 0
      },
      "text/plain": [
       "steps:   0%|          | 0/100000 [00:00<?, ?it/s]"
      ]
     },
     "metadata": {},
     "output_type": "display_data"
    },
    {
     "data": {
      "application/vnd.jupyter.widget-view+json": {
       "model_id": "e1132c4fda9947588f9e114ac3f39218",
       "version_major": 2,
       "version_minor": 0
      },
      "text/plain": [
       "Bob:   0%|          | 0/4 [00:00<?, ?it/s]"
      ]
     },
     "metadata": {},
     "output_type": "display_data"
    },
    {
     "data": {
      "application/vnd.jupyter.widget-view+json": {
       "model_id": "",
       "version_major": 2,
       "version_minor": 0
      },
      "text/plain": [
       "steps:   0%|          | 0/100000 [00:00<?, ?it/s]"
      ]
     },
     "metadata": {},
     "output_type": "display_data"
    },
    {
     "data": {
      "application/vnd.jupyter.widget-view+json": {
       "model_id": "",
       "version_major": 2,
       "version_minor": 0
      },
      "text/plain": [
       "steps:   0%|          | 0/100000 [00:00<?, ?it/s]"
      ]
     },
     "metadata": {},
     "output_type": "display_data"
    },
    {
     "data": {
      "application/vnd.jupyter.widget-view+json": {
       "model_id": "",
       "version_major": 2,
       "version_minor": 0
      },
      "text/plain": [
       "steps:   0%|          | 0/100000 [00:00<?, ?it/s]"
      ]
     },
     "metadata": {},
     "output_type": "display_data"
    },
    {
     "data": {
      "application/vnd.jupyter.widget-view+json": {
       "model_id": "",
       "version_major": 2,
       "version_minor": 0
      },
      "text/plain": [
       "steps:   0%|          | 0/100000 [00:00<?, ?it/s]"
      ]
     },
     "metadata": {},
     "output_type": "display_data"
    },
    {
     "data": {
      "application/vnd.jupyter.widget-view+json": {
       "model_id": "854003037c1d4f04b3aabbc86a95fda7",
       "version_major": 2,
       "version_minor": 0
      },
      "text/plain": [
       "Bob:   0%|          | 0/4 [00:00<?, ?it/s]"
      ]
     },
     "metadata": {},
     "output_type": "display_data"
    },
    {
     "data": {
      "application/vnd.jupyter.widget-view+json": {
       "model_id": "",
       "version_major": 2,
       "version_minor": 0
      },
      "text/plain": [
       "steps:   0%|          | 0/100000 [00:00<?, ?it/s]"
      ]
     },
     "metadata": {},
     "output_type": "display_data"
    },
    {
     "data": {
      "application/vnd.jupyter.widget-view+json": {
       "model_id": "",
       "version_major": 2,
       "version_minor": 0
      },
      "text/plain": [
       "steps:   0%|          | 0/100000 [00:00<?, ?it/s]"
      ]
     },
     "metadata": {},
     "output_type": "display_data"
    },
    {
     "data": {
      "application/vnd.jupyter.widget-view+json": {
       "model_id": "",
       "version_major": 2,
       "version_minor": 0
      },
      "text/plain": [
       "steps:   0%|          | 0/100000 [00:00<?, ?it/s]"
      ]
     },
     "metadata": {},
     "output_type": "display_data"
    },
    {
     "data": {
      "application/vnd.jupyter.widget-view+json": {
       "model_id": "",
       "version_major": 2,
       "version_minor": 0
      },
      "text/plain": [
       "steps:   0%|          | 0/100000 [00:00<?, ?it/s]"
      ]
     },
     "metadata": {},
     "output_type": "display_data"
    },
    {
     "data": {
      "text/html": [
       "<div>\n",
       "<style scoped>\n",
       "    .dataframe tbody tr th:only-of-type {\n",
       "        vertical-align: middle;\n",
       "    }\n",
       "\n",
       "    .dataframe tbody tr th {\n",
       "        vertical-align: top;\n",
       "    }\n",
       "\n",
       "    .dataframe thead th {\n",
       "        text-align: right;\n",
       "    }\n",
       "</style>\n",
       "<table border=\"1\" class=\"dataframe\">\n",
       "  <thead>\n",
       "    <tr style=\"text-align: right;\">\n",
       "      <th></th>\n",
       "      <th></th>\n",
       "      <th>d1v</th>\n",
       "      <th>d1h</th>\n",
       "      <th>d2v</th>\n",
       "      <th>d2h</th>\n",
       "    </tr>\n",
       "    <tr>\n",
       "      <th>Alice</th>\n",
       "      <th>Bob</th>\n",
       "      <th></th>\n",
       "      <th></th>\n",
       "      <th></th>\n",
       "      <th></th>\n",
       "    </tr>\n",
       "  </thead>\n",
       "  <tbody>\n",
       "    <tr>\n",
       "      <th rowspan=\"4\" valign=\"top\">States.H</th>\n",
       "      <th>States.H</th>\n",
       "      <td>0.0000</td>\n",
       "      <td>0.0000</td>\n",
       "      <td>0.0000</td>\n",
       "      <td>1.9614</td>\n",
       "    </tr>\n",
       "    <tr>\n",
       "      <th>States.V</th>\n",
       "      <td>0.4873</td>\n",
       "      <td>0.4910</td>\n",
       "      <td>0.4874</td>\n",
       "      <td>0.4939</td>\n",
       "    </tr>\n",
       "    <tr>\n",
       "      <th>States.D</th>\n",
       "      <td>0.2458</td>\n",
       "      <td>0.0421</td>\n",
       "      <td>0.2434</td>\n",
       "      <td>1.4276</td>\n",
       "    </tr>\n",
       "    <tr>\n",
       "      <th>States.A</th>\n",
       "      <td>0.2434</td>\n",
       "      <td>0.0417</td>\n",
       "      <td>0.2444</td>\n",
       "      <td>1.4310</td>\n",
       "    </tr>\n",
       "    <tr>\n",
       "      <th rowspan=\"4\" valign=\"top\">States.V</th>\n",
       "      <th>States.H</th>\n",
       "      <td>0.4927</td>\n",
       "      <td>0.4895</td>\n",
       "      <td>0.4883</td>\n",
       "      <td>0.4904</td>\n",
       "    </tr>\n",
       "    <tr>\n",
       "      <th>States.V</th>\n",
       "      <td>0.0000</td>\n",
       "      <td>0.0000</td>\n",
       "      <td>1.9609</td>\n",
       "      <td>0.0000</td>\n",
       "    </tr>\n",
       "    <tr>\n",
       "      <th>States.D</th>\n",
       "      <td>0.0418</td>\n",
       "      <td>0.2469</td>\n",
       "      <td>1.4261</td>\n",
       "      <td>0.2460</td>\n",
       "    </tr>\n",
       "    <tr>\n",
       "      <th>States.A</th>\n",
       "      <td>1.4302</td>\n",
       "      <td>0.2451</td>\n",
       "      <td>0.0413</td>\n",
       "      <td>0.2439</td>\n",
       "    </tr>\n",
       "    <tr>\n",
       "      <th rowspan=\"4\" valign=\"top\">States.D</th>\n",
       "      <th>States.H</th>\n",
       "      <td>0.2464</td>\n",
       "      <td>0.0419</td>\n",
       "      <td>0.2423</td>\n",
       "      <td>1.4290</td>\n",
       "    </tr>\n",
       "    <tr>\n",
       "      <th>States.V</th>\n",
       "      <td>0.0423</td>\n",
       "      <td>0.2449</td>\n",
       "      <td>1.4261</td>\n",
       "      <td>0.2461</td>\n",
       "    </tr>\n",
       "    <tr>\n",
       "      <th>States.D</th>\n",
       "      <td>0.0000</td>\n",
       "      <td>0.0000</td>\n",
       "      <td>0.9797</td>\n",
       "      <td>0.9802</td>\n",
       "    </tr>\n",
       "    <tr>\n",
       "      <th>States.A</th>\n",
       "      <td>0.9805</td>\n",
       "      <td>0.0000</td>\n",
       "      <td>0.0000</td>\n",
       "      <td>0.9802</td>\n",
       "    </tr>\n",
       "    <tr>\n",
       "      <th rowspan=\"4\" valign=\"top\">States.A</th>\n",
       "      <th>States.H</th>\n",
       "      <td>0.2468</td>\n",
       "      <td>0.0425</td>\n",
       "      <td>0.2479</td>\n",
       "      <td>1.4235</td>\n",
       "    </tr>\n",
       "    <tr>\n",
       "      <th>States.V</th>\n",
       "      <td>1.4270</td>\n",
       "      <td>0.2455</td>\n",
       "      <td>0.0417</td>\n",
       "      <td>0.2464</td>\n",
       "    </tr>\n",
       "    <tr>\n",
       "      <th>States.D</th>\n",
       "      <td>0.9851</td>\n",
       "      <td>0.0000</td>\n",
       "      <td>0.0000</td>\n",
       "      <td>0.9757</td>\n",
       "    </tr>\n",
       "    <tr>\n",
       "      <th>States.A</th>\n",
       "      <td>0.0000</td>\n",
       "      <td>0.0000</td>\n",
       "      <td>0.9746</td>\n",
       "      <td>0.9861</td>\n",
       "    </tr>\n",
       "  </tbody>\n",
       "</table>\n",
       "</div>"
      ],
      "text/plain": [
       "                      d1v     d1h     d2v     d2h\n",
       "Alice    Bob                                     \n",
       "States.H States.H  0.0000  0.0000  0.0000  1.9614\n",
       "         States.V  0.4873  0.4910  0.4874  0.4939\n",
       "         States.D  0.2458  0.0421  0.2434  1.4276\n",
       "         States.A  0.2434  0.0417  0.2444  1.4310\n",
       "States.V States.H  0.4927  0.4895  0.4883  0.4904\n",
       "         States.V  0.0000  0.0000  1.9609  0.0000\n",
       "         States.D  0.0418  0.2469  1.4261  0.2460\n",
       "         States.A  1.4302  0.2451  0.0413  0.2439\n",
       "States.D States.H  0.2464  0.0419  0.2423  1.4290\n",
       "         States.V  0.0423  0.2449  1.4261  0.2461\n",
       "         States.D  0.0000  0.0000  0.9797  0.9802\n",
       "         States.A  0.9805  0.0000  0.0000  0.9802\n",
       "States.A States.H  0.2468  0.0425  0.2479  1.4235\n",
       "         States.V  1.4270  0.2455  0.0417  0.2464\n",
       "         States.D  0.9851  0.0000  0.0000  0.9757\n",
       "         States.A  0.0000  0.0000  0.9746  0.9861"
      ]
     },
     "execution_count": 21,
     "metadata": {},
     "output_type": "execute_result"
    }
   ],
   "source": [
    "simulate_detector_count_averages(STATE_OF_THE_ART_LOSS)"
   ]
  },
  {
   "cell_type": "markdown",
   "metadata": {
    "tags": []
   },
   "source": [
    "#### Bits per Photon Rates\n",
    "\n",
    "How many valid bits per photon"
   ]
  },
  {
   "cell_type": "code",
   "execution_count": 22,
   "metadata": {},
   "outputs": [
    {
     "name": "stdout",
     "output_type": "stream",
     "text": [
      "Calculating bits per photon...\n"
     ]
    },
    {
     "data": {
      "application/vnd.jupyter.widget-view+json": {
       "model_id": "0db867827b8542809749c7bfd8bea4ca",
       "version_major": 2,
       "version_minor": 0
      },
      "text/plain": [
       "  0%|          | 0/9 [00:00<?, ?it/s]"
      ]
     },
     "metadata": {},
     "output_type": "display_data"
    },
    {
     "name": "stdout",
     "output_type": "stream",
     "text": [
      "avg_key_rate=0.1892\n",
      "std_key_rate=0.0078\n",
      "Time to run: 2.06 seconds\n",
      "----------------------------------\n",
      "Calculating bits per photon...\n"
     ]
    },
    {
     "data": {
      "application/vnd.jupyter.widget-view+json": {
       "model_id": "c3daf7eff81e4e6d9b85e7266e92a0ca",
       "version_major": 2,
       "version_minor": 0
      },
      "text/plain": [
       "  0%|          | 0/9 [00:00<?, ?it/s]"
      ]
     },
     "metadata": {},
     "output_type": "display_data"
    },
    {
     "name": "stdout",
     "output_type": "stream",
     "text": [
      "avg_key_rate=0.0015\n",
      "std_key_rate=0.0004\n",
      "Time to run: 1.94 seconds\n",
      "----------------------------------\n",
      "Calculating bits per photon...\n"
     ]
    },
    {
     "data": {
      "application/vnd.jupyter.widget-view+json": {
       "model_id": "acb149fb8c8a4a4eb82b7c1436af4b45",
       "version_major": 2,
       "version_minor": 0
      },
      "text/plain": [
       "  0%|          | 0/9 [00:00<?, ?it/s]"
      ]
     },
     "metadata": {},
     "output_type": "display_data"
    },
    {
     "name": "stdout",
     "output_type": "stream",
     "text": [
      "avg_key_rate=0.1797\n",
      "std_key_rate=0.0051\n",
      "Time to run: 2.32 seconds\n",
      "----------------------------------\n"
     ]
    }
   ],
   "source": [
    "no_loss_bits_per_photon = calculate_bits_per_photon(NO_LOSS)\n",
    "mit_optics_lab_bits_per_photon = calculate_bits_per_photon(MIT_OPTICS_LAB_LOSS)\n",
    "state_of_the_art_bits_per_photon = calculate_bits_per_photon(STATE_OF_THE_ART_LOSS)"
   ]
  },
  {
   "cell_type": "markdown",
   "metadata": {
    "tags": []
   },
   "source": [
    "#### Step Rates\n",
    "\n",
    "Time to execute one step"
   ]
  },
  {
   "cell_type": "code",
   "execution_count": 23,
   "metadata": {},
   "outputs": [
    {
     "name": "stdout",
     "output_type": "stream",
     "text": [
      "Calculating photon simulation rate...\n"
     ]
    },
    {
     "data": {
      "application/vnd.jupyter.widget-view+json": {
       "model_id": "38eea17bf20449f9863a2b2b5cace16c",
       "version_major": 2,
       "version_minor": 0
      },
      "text/plain": [
       "  0%|          | 0/9 [00:00<?, ?it/s]"
      ]
     },
     "metadata": {},
     "output_type": "display_data"
    },
    {
     "name": "stdout",
     "output_type": "stream",
     "text": [
      "avg_time_per_step=5.9e-05\n",
      "std_time_per_step=1.3e-05\n",
      "Time to run: 0.4 seconds\n",
      "----------------------------------\n",
      "Calculating photon simulation rate...\n"
     ]
    },
    {
     "data": {
      "application/vnd.jupyter.widget-view+json": {
       "model_id": "a70a2a41f04b4292a0698b3ec82d6d8f",
       "version_major": 2,
       "version_minor": 0
      },
      "text/plain": [
       "  0%|          | 0/9 [00:00<?, ?it/s]"
      ]
     },
     "metadata": {},
     "output_type": "display_data"
    },
    {
     "name": "stdout",
     "output_type": "stream",
     "text": [
      "avg_time_per_step=4.8e-05\n",
      "std_time_per_step=7e-06\n",
      "Time to run: 0.39 seconds\n",
      "----------------------------------\n",
      "Calculating photon simulation rate...\n"
     ]
    },
    {
     "data": {
      "application/vnd.jupyter.widget-view+json": {
       "model_id": "4723682f39204ff9bb8af1646e21c54c",
       "version_major": 2,
       "version_minor": 0
      },
      "text/plain": [
       "  0%|          | 0/9 [00:00<?, ?it/s]"
      ]
     },
     "metadata": {},
     "output_type": "display_data"
    },
    {
     "name": "stdout",
     "output_type": "stream",
     "text": [
      "avg_time_per_step=4.7e-05\n",
      "std_time_per_step=8e-06\n",
      "Time to run: 0.4 seconds\n",
      "----------------------------------\n"
     ]
    }
   ],
   "source": [
    "no_loss_photon_simulation_rate = calculate_photon_simulation_rate(NO_LOSS)\n",
    "mit_optics_lab_photon_simulation_rate = calculate_photon_simulation_rate(MIT_OPTICS_LAB_LOSS)\n",
    "state_of_the_art_photon_simulation_rate = calculate_photon_simulation_rate(STATE_OF_THE_ART_LOSS)"
   ]
  },
  {
   "cell_type": "markdown",
   "metadata": {
    "tags": []
   },
   "source": [
    "#### Secret Key Rates"
   ]
  },
  {
   "cell_type": "code",
   "execution_count": 24,
   "metadata": {},
   "outputs": [
    {
     "name": "stdout",
     "output_type": "stream",
     "text": [
      "no_loss_key_rate = 185900.0 bits/second\n",
      "mit_optics_lab_key_rate = 0.0004333333333333333 bits/second\n",
      "state_of_the_art_key_rate = 8.799999999999999 bits/second\n"
     ]
    }
   ],
   "source": [
    "no_loss_key_rate = calculate_key_rate(NO_LOSS)\n",
    "mit_optics_lab_key_rate = calculate_key_rate(MIT_OPTICS_LAB_LOSS)\n",
    "state_of_the_art_key_rate = calculate_key_rate(STATE_OF_THE_ART_LOSS)\n",
    "\n",
    "print(f\"{no_loss_key_rate = } bits/second\")\n",
    "print(f\"{mit_optics_lab_key_rate = } bits/second\")\n",
    "print(f\"{state_of_the_art_key_rate = } bits/second\")"
   ]
  },
  {
   "cell_type": "code",
   "execution_count": null,
   "metadata": {},
   "outputs": [],
   "source": []
  }
 ],
 "metadata": {
  "kernelspec": {
   "display_name": "Python 3 (ipykernel)",
   "language": "python",
   "name": "python3"
  },
  "language_info": {
   "codemirror_mode": {
    "name": "ipython",
    "version": 3
   },
   "file_extension": ".py",
   "mimetype": "text/x-python",
   "name": "python",
   "nbconvert_exporter": "python",
   "pygments_lexer": "ipython3",
   "version": "3.8.6"
  }
 },
 "nbformat": 4,
 "nbformat_minor": 4
}
