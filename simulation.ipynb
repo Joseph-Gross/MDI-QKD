{
 "cells": [
  {
   "cell_type": "markdown",
   "metadata": {
    "tags": []
   },
   "source": [
    "## Introduction"
   ]
  },
  {
   "cell_type": "markdown",
   "metadata": {},
   "source": [
    "MDI-QKD Report [here](MDI_QKD_Report.pdf)"
   ]
  },
  {
   "cell_type": "markdown",
   "metadata": {
    "tags": []
   },
   "source": [
    "## Importing Necessary Libraries"
   ]
  },
  {
   "cell_type": "code",
   "execution_count": 2,
   "metadata": {},
   "outputs": [
    {
     "name": "stdout",
     "output_type": "stream",
     "text": [
      "Requirement already satisfied: matplotlib in /Library/Frameworks/Python.framework/Versions/3.8/lib/python3.8/site-packages (3.5.1)\n",
      "Requirement already satisfied: cycler>=0.10 in /Library/Frameworks/Python.framework/Versions/3.8/lib/python3.8/site-packages (from matplotlib) (0.11.0)\n",
      "Requirement already satisfied: fonttools>=4.22.0 in /Library/Frameworks/Python.framework/Versions/3.8/lib/python3.8/site-packages (from matplotlib) (4.32.0)\n",
      "Requirement already satisfied: kiwisolver>=1.0.1 in /Library/Frameworks/Python.framework/Versions/3.8/lib/python3.8/site-packages (from matplotlib) (1.4.2)\n",
      "Requirement already satisfied: numpy>=1.17 in /Library/Frameworks/Python.framework/Versions/3.8/lib/python3.8/site-packages (from matplotlib) (1.21.2)\n",
      "Requirement already satisfied: packaging>=20.0 in /Library/Frameworks/Python.framework/Versions/3.8/lib/python3.8/site-packages (from matplotlib) (21.0)\n",
      "Requirement already satisfied: pillow>=6.2.0 in /Library/Frameworks/Python.framework/Versions/3.8/lib/python3.8/site-packages (from matplotlib) (8.3.2)\n",
      "Requirement already satisfied: pyparsing>=2.2.1 in /Library/Frameworks/Python.framework/Versions/3.8/lib/python3.8/site-packages (from matplotlib) (2.4.7)\n",
      "Requirement already satisfied: python-dateutil>=2.7 in /Users/josephgross/Library/Python/3.8/lib/python/site-packages (from matplotlib) (2.8.1)\n",
      "Requirement already satisfied: six>=1.5 in /Users/josephgross/Library/Python/3.8/lib/python/site-packages (from python-dateutil>=2.7->matplotlib) (1.15.0)\n",
      "\n",
      "\u001b[1m[\u001b[0m\u001b[34;49mnotice\u001b[0m\u001b[1;39;49m]\u001b[0m\u001b[39;49m A new release of pip is available: \u001b[0m\u001b[31;49m20.2.1\u001b[0m\u001b[39;49m -> \u001b[0m\u001b[32;49m23.1.2\u001b[0m\n",
      "\u001b[1m[\u001b[0m\u001b[34;49mnotice\u001b[0m\u001b[1;39;49m]\u001b[0m\u001b[39;49m To update, run: \u001b[0m\u001b[32;49mpip install --upgrade pip\u001b[0m\n"
     ]
    }
   ],
   "source": [
    "!pip install matplotlib\n",
    "\n",
    "import numpy as np\n",
    "import matplotlib.pyplot as plt\n",
    "from matplotlib.animation import FuncAnimation, PillowWriter\n",
    "from IPython.display import Image\n",
    "\n",
    "import ipywidgets as widgets\n",
    "from IPython.display import display, clear_output\n",
    "\n",
    "from math import * \n",
    "from dataclasses import dataclass, asdict, fields\n",
    "from enum import Enum\n",
    "from typing import List, Tuple\n",
    "import random\n",
    "import pandas as pd\n",
    "import time\n",
    "\n",
    "from tqdm.auto import tqdm\n",
    "import threading\n",
    "from queue import Queue"
   ]
  },
  {
   "cell_type": "markdown",
   "metadata": {
    "tags": []
   },
   "source": [
    "## Defining Constants and Variables"
   ]
  },
  {
   "cell_type": "code",
   "execution_count": 16,
   "metadata": {},
   "outputs": [],
   "source": [
    "class Basis(Enum):\n",
    "    Rectilinear = (\"H\", \"V\")\n",
    "    Diagonal = (\"D\", \"A\")\n",
    "\n",
    "class States(Enum):\n",
    "    H = (1, 0)\n",
    "    V = (0, 1)\n",
    "    D = (1/1/sqrt(2), 1/1/sqrt(2))\n",
    "    A = (1/1/sqrt(2), -1/1/sqrt(2))\n",
    "    \n",
    "    @property\n",
    "    def basis(self):\n",
    "        return Basis.Rectilinear if self.name in Basis.Rectilinear.value else Basis.Diagonal\n",
    "    \n",
    "    @property\n",
    "    def bit(self):\n",
    "        return 0 if self.name in (\"H\", \"D\") else 1\n",
    "    \n",
    "    def loss_value(self, loss_multiplier: float) -> Tuple[float]:\n",
    "        return (self.value[0] * loss_multiplier, self.value[1] * loss_multiplier)\n",
    "    \n",
    "    \n",
    "@dataclass\n",
    "class ExperimentalLoss:\n",
    "    e_d: float\n",
    "    e_pbs1: float \n",
    "    e_pbs2: float   \n",
    "    e_bs50: float \n",
    "    e_fff: float\n",
    "    \n",
    "    e_hwp_a: float\n",
    "    e_qwp_a: float\n",
    "    e_hwp_b: float\n",
    "    e_qwp_b: float\n",
    "    \n",
    "    polarizer_switching_time_s: float\n",
    "    \n",
    "    @staticmethod\n",
    "    def get_display_name(attr_name: str):\n",
    "        \n",
    "        display_names = {\n",
    "            'e_d': 'Detector Efficiency',\n",
    "            'e_pbs1': 'PBS 1 Efficiency',\n",
    "            'e_pbs2': 'PBS 2 Efficiency',\n",
    "            'e_bs50': 'BS 50/50 Efficiency',\n",
    "            'e_fff': 'Free Space / Fiber Efficiency',\n",
    "            'e_hwp_a': 'Alice HWP Efficiency',\n",
    "            'e_qwp_a': 'Alice QWP Efficiency',\n",
    "            'e_hwp_b': 'Bob HWP Efficiency',\n",
    "            'e_qwp_b': 'Bob QWP Efficiency',\n",
    "            \n",
    "            'polarizer_switching_time_s': 'Polarizer Switching Time'\n",
    "        }\n",
    "        \n",
    "        return display_names[attr_name]\n",
    "    \n",
    "    @property\n",
    "    def field_names(self):\n",
    "        return [field.name for field in fields(self)]\n",
    "    \n",
    "    \n",
    "@dataclass\n",
    "class Measurement:\n",
    "    d1h: bool\n",
    "    d1v: bool\n",
    "    d2h: bool\n",
    "    d2v: bool\n",
    "    \n",
    "    @property\n",
    "    def bell_plus(self):\n",
    "        return (self.d1h & self.d1v) | (self.d2h & self.d2v)\n",
    "    \n",
    "    @property\n",
    "    def bell_minus(self):\n",
    "        return (self.d1h & self.d2v) | (self.d1v & self.d2h)\n",
    "    \n",
    "@dataclass\n",
    "class SimulationResult:\n",
    "    alice_state: str\n",
    "    alice_bit: int\n",
    "    bob_state: str\n",
    "    bob_bit: int\n",
    "    \n",
    "    basis: str\n",
    "    bell_plus: bool\n",
    "    bell_minus: bool\n",
    "    is_valid: bool"
   ]
  },
  {
   "cell_type": "code",
   "execution_count": 26,
   "metadata": {},
   "outputs": [
    {
     "data": {
      "text/plain": [
       "['e_d',\n",
       " 'e_pbs1',\n",
       " 'e_pbs2',\n",
       " 'e_bs50',\n",
       " 'e_fff',\n",
       " 'e_hwp_a',\n",
       " 'e_qwp_a',\n",
       " 'e_hwp_b',\n",
       " 'e_qwp_b',\n",
       " 'polarizer_switching_time_s']"
      ]
     },
     "execution_count": 26,
     "metadata": {},
     "output_type": "execute_result"
    }
   ],
   "source": [
    "NO_LOSS = ExperimentalLoss(\n",
    "    e_d = 1,      \n",
    "    e_pbs1 = 1,    \n",
    "    e_pbs2 = 1,   \n",
    "    e_bs50 = 1,    \n",
    "    e_fff = 1,\n",
    "    \n",
    "    e_hwp_a = 1,  \n",
    "    e_qwp_a = 1, \n",
    "    e_hwp_b = 1,  \n",
    "    e_qwp_b = 1,\n",
    "    \n",
    "    polarizer_switching_time_s = 1e-6  # photon generation rate of the detector is 10^5 photon/s,\n",
    ")\n",
    "\n",
    "STATE_OF_THE_ART_LOSS = ExperimentalLoss(\n",
    "    e_d = 0.98,      \n",
    "    e_pbs1 = 1,    \n",
    "    e_pbs2 = 1,   \n",
    "    e_bs50 = 1,    \n",
    "    e_fff = 1,\n",
    "    \n",
    "    e_hwp_a = 1,  \n",
    "    e_qwp_a = 1, \n",
    "    e_hwp_b = 1,  \n",
    "    e_qwp_b = 1,\n",
    "    \n",
    "    polarizer_switching_time_s = 20e-3  # Thorlabs switching time for polarizer is 20ms\n",
    ")\n",
    "\n",
    "MIT_OPTICS_LAB_LOSS = ExperimentalLoss(\n",
    "    e_d = 0.1,      \n",
    "    e_pbs1 = 0.5,    \n",
    "    e_pbs2 = 0.5,   \n",
    "    e_bs50 = 0.8,    \n",
    "    e_fff = 1,\n",
    "    \n",
    "    e_hwp_a = 0.75,  \n",
    "    e_qwp_a = 1, \n",
    "    e_hwp_b = 0.75,  \n",
    "    e_qwp_b = 1,\n",
    "    \n",
    "    polarizer_switching_time_s = 3    # Qued switching time for polarizer is 3s\n",
    ")\n",
    "\n",
    "NO_LOSS.field_names"
   ]
  },
  {
   "cell_type": "markdown",
   "metadata": {
    "tags": []
   },
   "source": [
    "## Defining Helper Functions"
   ]
  },
  {
   "cell_type": "markdown",
   "metadata": {
    "tags": []
   },
   "source": [
    "#### Expected Photon Count\n",
    "\n",
    "Calculations and diagrams can be found in [here](expected_photon_count.pdf)"
   ]
  },
  {
   "cell_type": "code",
   "execution_count": 27,
   "metadata": {},
   "outputs": [],
   "source": [
    "N1v = lambda ah, av, bh, bv, e_bs50, e_pbs: (e_bs50 * e_pbs)**2 * (av - bv)**2 / 2\n",
    "N1h = lambda ah, av, bh, bv, e_bs50, e_pbs: (e_bs50 * e_pbs)**2 * (ah - bh)**2 / 2\n",
    "N2v = lambda ah, av, bh, bv, e_bs50, e_pbs: (e_bs50 * e_pbs)**2 * (av + bv)**2 / 2\n",
    "N2h = lambda ah, av, bh, bv, e_bs50, e_pbs: (e_bs50 * e_pbs)**2 * (ah + bh)**2 / 2"
   ]
  },
  {
   "cell_type": "markdown",
   "metadata": {
    "tags": []
   },
   "source": [
    "#### Simulation"
   ]
  },
  {
   "cell_type": "code",
   "execution_count": 28,
   "metadata": {},
   "outputs": [],
   "source": [
    "def simulate_measurement(alice: States, bob: States, loss: ExperimentalLoss) -> Measurement:\n",
    "    \n",
    "    alice_loss = loss.e_fff * loss.e_hwp_a * loss.e_qwp_a\n",
    "    bob_loss = loss.e_fff * loss.e_hwp_b * loss.e_qwp_b\n",
    "    \n",
    "    detector_weights = [\n",
    "        loss.e_d * N1v(*alice.loss_value(alice_loss), *bob.loss_value(bob_loss), loss.e_bs50, loss.e_pbs1),\n",
    "        loss.e_d * N1h(*alice.loss_value(alice_loss), *bob.loss_value(bob_loss), loss.e_bs50, loss.e_pbs1),\n",
    "        loss.e_d * N2v(*alice.loss_value(alice_loss), *bob.loss_value(bob_loss), loss.e_bs50, loss.e_pbs2),\n",
    "        loss.e_d * N2h(*alice.loss_value(alice_loss), *bob.loss_value(bob_loss), loss.e_bs50, loss.e_pbs2),\n",
    "    ]\n",
    "    \n",
    "    scale_factor = 2 / sum(detector_weights)\n",
    "    scaled_detector_weights = [scale_factor * weight for weight in detector_weights]\n",
    "    \n",
    "    detector_hits = random.choices([\"d1v\", \"d1h\", \"d2v\", \"d2h\"], weights=scaled_detector_weights, k=2)\n",
    "\n",
    "    is_valid = random.random() <= 1/scale_factor\n",
    "    d1v = \"d1v\" in detector_hits if is_valid else False\n",
    "    d1h = \"d1h\" in detector_hits if is_valid else False\n",
    "    d2v = \"d2v\" in detector_hits if is_valid else False\n",
    "    d2h = \"d2h\" in detector_hits if is_valid else False\n",
    "\n",
    "    return Measurement(d1h=d1h, d1v=d1v, d2h=d2h, d2v=d2v)\n",
    "\n",
    "\n",
    "def simulate_experiment(steps: int, loss: ExperimentalLoss, show_progress_bar: bool = False) -> List[SimulationResult]:\n",
    "    \n",
    "    results = []\n",
    "    \n",
    "    for step in tqdm(range(steps), disable= not show_progress_bar):\n",
    "        alice = random.choice(list(States))\n",
    "        bob = random.choice(list(States))\n",
    "        measurement = simulate_measurement(alice, bob, loss)\n",
    "        is_same_basis = alice.basis == bob.basis\n",
    "        basis = alice.basis.name if is_same_basis else \"n/a\"\n",
    "        \n",
    "        is_valid = (measurement.bell_plus | measurement.bell_minus) & is_same_basis\n",
    "        \n",
    "        \n",
    "        simulation_result = SimulationResult(\n",
    "            alice_state=alice.name, \n",
    "            alice_bit=alice.bit, \n",
    "            bob_state=bob.name, \n",
    "            bob_bit=bob.bit, \n",
    "            basis=basis, \n",
    "            bell_plus=measurement.bell_plus, \n",
    "            bell_minus=measurement.bell_minus,\n",
    "            is_valid=is_valid,\n",
    "        )\n",
    "        results.append(simulation_result)\n",
    "        \n",
    "    return results"
   ]
  },
  {
   "cell_type": "markdown",
   "metadata": {
    "tags": []
   },
   "source": [
    "#### Sifting"
   ]
  },
  {
   "cell_type": "code",
   "execution_count": 29,
   "metadata": {},
   "outputs": [],
   "source": [
    "def apply_bit_flip(results_df: pd.DataFrame) -> pd.DataFrame:\n",
    "    \n",
    "    if results_df[\"basis\"] == Basis.Rectilinear.name:\n",
    "        return (results_df[\"bob_bit\"] + 1) % 2\n",
    "    \n",
    "    if results_df[\"basis\"] == Basis.Diagonal.name and results_df[\"bell_minus\"]:\n",
    "        return (results_df[\"bob_bit\"] + 1) % 2\n",
    "\n",
    "    return results_df[\"bob_bit\"]\n"
   ]
  },
  {
   "cell_type": "markdown",
   "metadata": {
    "tags": []
   },
   "source": [
    "#### Analysis"
   ]
  },
  {
   "cell_type": "code",
   "execution_count": 30,
   "metadata": {},
   "outputs": [],
   "source": [
    "def calculate_bits_per_photon(loss: ExperimentalLoss, fast=False, show_progress_bar: bool = True, print_log: bool = True) -> float:\n",
    "    if print_log:\n",
    "        print(\"Calculating bits per photon...\")\n",
    "    \n",
    "    key_rates = []\n",
    "\n",
    "    start = time.time()\n",
    "    \n",
    "    range_iter = range(100, 1000, 100) if fast else range(1000, 10000, 1000)\n",
    "    for step in tqdm(range_iter, disable= not show_progress_bar):\n",
    "\n",
    "        results = simulate_experiment(step, loss)\n",
    "\n",
    "        df = pd.DataFrame(results)\n",
    "        df = df[df[\"is_valid\"]]\n",
    "\n",
    "        # print(step, df.shape[0], round(df.shape[0] / step, 4))\n",
    "\n",
    "        key_rates.append(df.shape[0] / step)\n",
    "\n",
    "    end = time.time()\n",
    "\n",
    "    avg_key_rate = round(np.mean(key_rates), 4) \n",
    "    std_key_rate = round(np.std(key_rates), 4)\n",
    "    \n",
    "    if print_log:\n",
    "        print(f\"{avg_key_rate=}\")\n",
    "        print(f\"{std_key_rate=}\")\n",
    "        print(f\"Time to run: {round(end-start, 2)} seconds\")\n",
    "        print(\"----------------------------------\")\n",
    "\n",
    "    return avg_key_rate\n",
    "\n",
    "\n",
    "\n",
    "def calculate_photon_simulation_rate(loss: ExperimentalLoss) -> float:\n",
    "    print(\"Calculating photon simulation rate...\")\n",
    "    times = []\n",
    "\n",
    "    start_sim = time.time()\n",
    "    for step in tqdm(range(1000, 10000, 1000)):\n",
    "\n",
    "        start = time.time()\n",
    "\n",
    "        results = simulate_experiment(step, loss)\n",
    "        df = pd.DataFrame(results)\n",
    "        df = df[df[\"is_valid\"]]\n",
    "\n",
    "        end = time.time()\n",
    "\n",
    "        time_taken = round(end-start, 3)\n",
    "        times.append(time_taken/step)\n",
    "\n",
    "        # print(step, time_taken, time_taken/step)\n",
    "        \n",
    "    end_sim = time.time()\n",
    "\n",
    "    avg_time_per_step = round(np.mean(times), 6) \n",
    "    std_time_per_step = round(np.std(times), 6)\n",
    "    \n",
    "    print(f\"{avg_time_per_step=}\")\n",
    "    print(f\"{std_time_per_step=}\")\n",
    "    print(f\"Time to run: {round(end-start, 2)} seconds\")\n",
    "    print(\"----------------------------------\")\n",
    "    \n",
    "    return avg_time_per_step\n",
    "\n",
    "\n",
    "\n",
    "def calculate_error_rate(str1, str2):\n",
    "    if len(str1) != len(str2):\n",
    "        raise ValueError(\"Strings must have the same length\")\n",
    "\n",
    "    differences = sum(ch1 != ch2 for ch1, ch2 in zip(str1, str2))\n",
    "    error_rate = differences / len(str1)\n",
    "    return error_rate\n",
    "\n",
    "\n",
    "\n",
    "def calculate_key_rate(loss: ExperimentalLoss) -> float:\n",
    "    \n",
    "    bits_per_photon = calculate_bits_per_photon(loss, fast=True, show_progress_bar=False, print_log=False)\n",
    "    photons_per_second_encoding_rate = 1 / loss.polarizer_switching_time_s\n",
    "    \n",
    "    return bits_per_photon * photons_per_second_encoding_rate\n"
   ]
  },
  {
   "cell_type": "markdown",
   "metadata": {
    "tags": []
   },
   "source": [
    "#### End to End"
   ]
  },
  {
   "cell_type": "code",
   "execution_count": 31,
   "metadata": {},
   "outputs": [],
   "source": [
    "def generate_key(target_key_size: int, loss: ExperimentalLoss):\n",
    "    \n",
    "    bits_per_photon = calculate_bits_per_photon(loss)\n",
    "    photon_multiplier = 1 / bits_per_photon    \n",
    "    steps = int(target_key_size * photon_multiplier)\n",
    "    \n",
    "    estimated_photon_simulation_rate = calculate_photon_simulation_rate(loss)\n",
    "    estimated_time = round(estimated_photon_simulation_rate * steps, 3)\n",
    "    \n",
    "    photons_per_second_encoding_rate = 1 / loss.polarizer_switching_time_s\n",
    "    secret_key_rate = round(bits_per_photon * photons_per_second_encoding_rate, 5)\n",
    "    \n",
    "    print(f\"Generating {target_key_size=} by simulating {steps=} with {bits_per_photon=} \\n\")\n",
    "    print(f\"Simulating experiment with {estimated_photon_simulation_rate=} seconds\")\n",
    "    \n",
    "    results = simulate_experiment(steps, loss, show_progress_bar=True)\n",
    "    df = pd.DataFrame(results)\n",
    "    df = df[df[\"is_valid\"]]\n",
    "    df[\"bob_bit_sifted\"] = df.apply(apply_bit_flip, axis=1)\n",
    "    \n",
    "    alice_key = ''.join(df['alice_bit'].astype(str))\n",
    "    bob_key = ''.join(df['bob_bit_sifted'].astype(str))\n",
    "    \n",
    "    alice_key_hex = hex(int(alice_key, 2))\n",
    "    bob_key_hex = hex(int(bob_key, 2))\n",
    "\n",
    "    assert alice_key == bob_key, \"Keys do not match\"    \n",
    "    return alice_key, bob_key, alice_key_hex, bob_key_hex, secret_key_rate"
   ]
  },
  {
   "cell_type": "markdown",
   "metadata": {
    "tags": []
   },
   "source": [
    "## Simulating Experiment"
   ]
  },
  {
   "cell_type": "markdown",
   "metadata": {},
   "source": [
    "#### No Loss"
   ]
  },
  {
   "cell_type": "code",
   "execution_count": 64,
   "metadata": {},
   "outputs": [
    {
     "name": "stdout",
     "output_type": "stream",
     "text": [
      "Calculating bits per photon...\n"
     ]
    },
    {
     "data": {
      "application/vnd.jupyter.widget-view+json": {
       "model_id": "bf0492cad7b64d5587c75dbe6fda76d5",
       "version_major": 2,
       "version_minor": 0
      },
      "text/plain": [
       "  0%|          | 0/9 [00:00<?, ?it/s]"
      ]
     },
     "metadata": {},
     "output_type": "display_data"
    },
    {
     "name": "stdout",
     "output_type": "stream",
     "text": [
      "avg_key_rate=0.1913\n",
      "std_key_rate=0.009\n",
      "Time to run: 3.01 seconds\n",
      "----------------------------------\n",
      "Calculating photon simulation rate...\n"
     ]
    },
    {
     "data": {
      "application/vnd.jupyter.widget-view+json": {
       "model_id": "af59fd6d1e29401db9695cf1a066cb63",
       "version_major": 2,
       "version_minor": 0
      },
      "text/plain": [
       "  0%|          | 0/9 [00:00<?, ?it/s]"
      ]
     },
     "metadata": {},
     "output_type": "display_data"
    },
    {
     "name": "stdout",
     "output_type": "stream",
     "text": [
      "avg_time_per_step=6.9e-05\n",
      "std_time_per_step=6e-06\n",
      "Time to run: 0.59 seconds\n",
      "----------------------------------\n",
      "Generating target_key_size=512 by simulating steps=2676 with bits_per_photon=0.1913 \n",
      "\n",
      "Simulating experiment with estimated_photon_simulation_rate=6.9e-05 seconds\n"
     ]
    },
    {
     "data": {
      "application/vnd.jupyter.widget-view+json": {
       "model_id": "6f3a39883db3499a9e48cf37787a7c8e",
       "version_major": 2,
       "version_minor": 0
      },
      "text/plain": [
       "  0%|          | 0/2676 [00:00<?, ?it/s]"
      ]
     },
     "metadata": {},
     "output_type": "display_data"
    },
    {
     "name": "stdout",
     "output_type": "stream",
     "text": [
      "-----------------\n",
      "alice_key='001101001110010011010100001000011010001001110100111100010001000110110011100100100111010000111111011101110100001101010100011111010110101100101100000101001111100100000011101001000001001101000101101111011000000111110101111100010110101000100100111110010100010110010000001000100010110100101001010000111000000001000011101000010110111101101101100111000010110101000011010101010010100010000111110111011011010101111011001100001110011111110111011110000100101001000001001000000010110100111'\n",
      "bob_key='001101001110010011010100001000011010001001110100111100010001000110110011100100100111010000111111011101110100001101010100011111010110101100101100000101001111100100000011101001000001001101000101101111011000000111110101111100010110101000100100111110010100010110010000001000100010110100101001010000111000000001000011101000010110111101101101100111000010110101000011010101010010100010000111110111011011010101111011001100001110011111110111011110000100101001000001001000000010110100111'\n",
      "alice_key_hex='0x69c9a84344e9e2236724e87eee86a8fad65829f20748268b7b03ebe2d449f28b20445a5287008742dedb385a86aa510fbb6af661cfeef09482405a7'\n",
      "bob_key_hex='0x69c9a84344e9e2236724e87eee86a8fad65829f20748268b7b03ebe2d449f28b20445a5287008742dedb385a86aa510fbb6af661cfeef09482405a7'\n",
      "-----------------\n",
      "key_size = 477 bits\n",
      "error_rate = 0.0\n",
      "secret_key_rate = 191300.0 bits/second\n"
     ]
    }
   ],
   "source": [
    "desired_key_size = 512\n",
    "alice_key, bob_key, alice_key_hex, bob_key_hex, secret_key_rate = generate_key(desired_key_size, NO_LOSS)\n",
    "key_size = len(alice_key)\n",
    "error_rate = calculate_error_rate(alice_key, bob_key)\n",
    "\n",
    "print(\"-----------------\")\n",
    "print(f\"{alice_key=}\")\n",
    "print(f\"{bob_key=}\")\n",
    "\n",
    "print(f\"{alice_key_hex=}\")\n",
    "print(f\"{bob_key_hex=}\")\n",
    "\n",
    "print(\"-----------------\")\n",
    "print(f\"{key_size = } bits\")\n",
    "print(f\"{error_rate = }\")\n",
    "print(f\"{secret_key_rate = } bits/second\")"
   ]
  },
  {
   "cell_type": "markdown",
   "metadata": {},
   "source": [
    "#### State of the Art"
   ]
  },
  {
   "cell_type": "code",
   "execution_count": 32,
   "metadata": {},
   "outputs": [
    {
     "name": "stdout",
     "output_type": "stream",
     "text": [
      "Calculating bits per photon...\n"
     ]
    },
    {
     "data": {
      "application/vnd.jupyter.widget-view+json": {
       "model_id": "894b78aba2004cfc890fa93bb6971fb1",
       "version_major": 2,
       "version_minor": 0
      },
      "text/plain": [
       "  0%|          | 0/9 [00:00<?, ?it/s]"
      ]
     },
     "metadata": {},
     "output_type": "display_data"
    },
    {
     "name": "stdout",
     "output_type": "stream",
     "text": [
      "avg_key_rate=0.1862\n",
      "std_key_rate=0.0023\n",
      "Time to run: 3.03 seconds\n",
      "----------------------------------\n",
      "Calculating photon simulation rate...\n"
     ]
    },
    {
     "data": {
      "application/vnd.jupyter.widget-view+json": {
       "model_id": "3005ef54459448b5bb3bbc33cdd94bbb",
       "version_major": 2,
       "version_minor": 0
      },
      "text/plain": [
       "  0%|          | 0/9 [00:00<?, ?it/s]"
      ]
     },
     "metadata": {},
     "output_type": "display_data"
    },
    {
     "name": "stdout",
     "output_type": "stream",
     "text": [
      "avg_time_per_step=6.7e-05\n",
      "std_time_per_step=2e-06\n",
      "Time to run: 0.58 seconds\n",
      "----------------------------------\n",
      "Generating target_key_size=512 by simulating steps=2749 with bits_per_photon=0.1862 \n",
      "\n",
      "Simulating experiment with estimated_photon_simulation_rate=6.7e-05 seconds\n"
     ]
    },
    {
     "data": {
      "application/vnd.jupyter.widget-view+json": {
       "model_id": "85df929c13644b9e84a9d182736cecd8",
       "version_major": 2,
       "version_minor": 0
      },
      "text/plain": [
       "  0%|          | 0/2749 [00:00<?, ?it/s]"
      ]
     },
     "metadata": {},
     "output_type": "display_data"
    },
    {
     "name": "stdout",
     "output_type": "stream",
     "text": [
      "-----------------\n",
      "alice_key='010010110100111110011001100111100011010001111110001101000001001110100011100100000000000111110011010010010100010100110010101111010010011000100010101011111000010111011110101011100010001111010100001110000001011111011111001111011101010010111100110100000001110101110111100011001111010111111111001111100111011011000001101111110001100010001101111101111011011010001101110110000101000110000110001100100110010001101111001111111110101100110100001100001111111011001011000110011111000100011110111010111000101111101001001111100'\n",
      "bob_key='010010110100111110011001100111100011010001111110001101000001001110100011100100000000000111110011010010010100010100110010101111010010011000100010101011111000010111011110101011100010001111010100001110000001011111011111001111011101010010111100110100000001110101110111100011001111010111111111001111100111011011000001101111110001100010001101111101111011011010001101110110000101000110000110001100100110010001101111001111111110101100110100001100001111111011001011000110011111000100011110111010111000101111101001001111100'\n",
      "alice_key_hex='0x969f333c68fc6827472003e6928a657a4c455f0bbd5c47a8702fbe7ba979a03aef19ebfe7ced837e311bef6d1bb0a30c64c8de7fd66861fd9633e23dd717d27c'\n",
      "bob_key_hex='0x969f333c68fc6827472003e6928a657a4c455f0bbd5c47a8702fbe7ba979a03aef19ebfe7ced837e311bef6d1bb0a30c64c8de7fd66861fd9633e23dd717d27c'\n",
      "-----------------\n",
      "key_size = 513 bits\n",
      "error_rate = 0.0\n",
      "secret_key_rate = 9.31 bits/second\n"
     ]
    }
   ],
   "source": [
    "desired_key_size = 512\n",
    "alice_key, bob_key, alice_key_hex, bob_key_hex, secret_key_rate = generate_key(desired_key_size, STATE_OF_THE_ART_LOSS)\n",
    "key_size = len(alice_key)\n",
    "error_rate = calculate_error_rate(alice_key, bob_key)\n",
    "\n",
    "print(\"-----------------\")\n",
    "print(f\"{alice_key=}\")\n",
    "print(f\"{bob_key=}\")\n",
    "\n",
    "print(f\"{alice_key_hex=}\")\n",
    "print(f\"{bob_key_hex=}\")\n",
    "\n",
    "print(\"-----------------\")\n",
    "print(f\"{key_size = } bits\")\n",
    "print(f\"{error_rate = }\")\n",
    "print(f\"{secret_key_rate = } bits/second\")"
   ]
  },
  {
   "cell_type": "markdown",
   "metadata": {},
   "source": [
    "#### 6.2410 Optics Lab"
   ]
  },
  {
   "cell_type": "code",
   "execution_count": 33,
   "metadata": {},
   "outputs": [
    {
     "name": "stdout",
     "output_type": "stream",
     "text": [
      "Calculating bits per photon...\n"
     ]
    },
    {
     "data": {
      "application/vnd.jupyter.widget-view+json": {
       "model_id": "f4fe1606ab354d54b032bbc8e0a990a1",
       "version_major": 2,
       "version_minor": 0
      },
      "text/plain": [
       "  0%|          | 0/9 [00:00<?, ?it/s]"
      ]
     },
     "metadata": {},
     "output_type": "display_data"
    },
    {
     "name": "stdout",
     "output_type": "stream",
     "text": [
      "avg_key_rate=0.0014\n",
      "std_key_rate=0.0007\n",
      "Time to run: 2.96 seconds\n",
      "----------------------------------\n",
      "Calculating photon simulation rate...\n"
     ]
    },
    {
     "data": {
      "application/vnd.jupyter.widget-view+json": {
       "model_id": "311e5503e0f84923962b43d0f6d6508f",
       "version_major": 2,
       "version_minor": 0
      },
      "text/plain": [
       "  0%|          | 0/9 [00:00<?, ?it/s]"
      ]
     },
     "metadata": {},
     "output_type": "display_data"
    },
    {
     "name": "stdout",
     "output_type": "stream",
     "text": [
      "avg_time_per_step=6.4e-05\n",
      "std_time_per_step=3e-06\n",
      "Time to run: 0.55 seconds\n",
      "----------------------------------\n",
      "Generating target_key_size=512 by simulating steps=365714 with bits_per_photon=0.0014 \n",
      "\n",
      "Simulating experiment with estimated_photon_simulation_rate=6.4e-05 seconds\n"
     ]
    },
    {
     "data": {
      "application/vnd.jupyter.widget-view+json": {
       "model_id": "484512327b244c249ac7937dac7f983a",
       "version_major": 2,
       "version_minor": 0
      },
      "text/plain": [
       "  0%|          | 0/365714 [00:00<?, ?it/s]"
      ]
     },
     "metadata": {},
     "output_type": "display_data"
    },
    {
     "name": "stdout",
     "output_type": "stream",
     "text": [
      "-----------------\n",
      "alice_key='010001100111011010111011111111011101100000001100100111010000110110010111111100001111000110011111001001000111111111110000100001101011100110111011000001001001011110111101010100110001000000100011100001100101001000100000001101010011000000000100010100001100110100000111010001110111001011001110011001010110001110000010001111111001111011111100100011000001100101001001100011100111001110100010110111010101101001100000010011101100100011110010001000110111010101000001110010011110100111101100100011110111000101110110010101100010010101110010001010100100110001111101100001000110101111010010110111111111010011101101110010000010011001001101011'\n",
      "bob_key='010001100111011010111011111111011101100000001100100111010000110110010111111100001111000110011111001001000111111111110000100001101011100110111011000001001001011110111101010100110001000000100011100001100101001000100000001101010011000000000100010100001100110100000111010001110111001011001110011001010110001110000010001111111001111011111100100011000001100101001001100011100111001110100010110111010101101001100000010011101100100011110010001000110111010101000001110010011110100111101100100011110111000101110110010101100010010101110010001010100100110001111101100001000110101111010010110111111111010011101101110010000010011001001101011'\n",
      "alice_key_hex='0x233b5dfeec064e86cbf878cf923ff8435cdd824bdea98811c329101a9802286683a3b96732b1c11fcf7e460ca4c739d16ead3027647911baa0e4f4f647b8bb2b12b915263ec235e96ffa76e41326b'\n",
      "bob_key_hex='0x233b5dfeec064e86cbf878cf923ff8435cdd824bdea98811c329101a9802286683a3b96732b1c11fcf7e460ca4c739d16ead3027647911baa0e4f4f647b8bb2b12b915263ec235e96ffa76e41326b'\n",
      "-----------------\n",
      "key_size = 627 bits\n",
      "error_rate = 0.0\n",
      "secret_key_rate = 0.00047 bits/second\n"
     ]
    }
   ],
   "source": [
    "desired_key_size = 512\n",
    "alice_key, bob_key, alice_key_hex, bob_key_hex, secret_key_rate = generate_key(desired_key_size, MIT_OPTICS_LAB_LOSS)\n",
    "key_size = len(alice_key)\n",
    "error_rate = calculate_error_rate(alice_key, bob_key)\n",
    "\n",
    "print(\"-----------------\")\n",
    "print(f\"{alice_key=}\")\n",
    "print(f\"{bob_key=}\")\n",
    "\n",
    "print(f\"{alice_key_hex=}\")\n",
    "print(f\"{bob_key_hex=}\")\n",
    "\n",
    "print(\"-----------------\")\n",
    "print(f\"{key_size = } bits\")\n",
    "print(f\"{error_rate = }\")\n",
    "print(f\"{secret_key_rate = } bits/second\")"
   ]
  },
  {
   "cell_type": "markdown",
   "metadata": {
    "tags": []
   },
   "source": [
    "## Visualizations"
   ]
  },
  {
   "cell_type": "markdown",
   "metadata": {
    "tags": []
   },
   "source": [
    "#### Helper Functions"
   ]
  },
  {
   "cell_type": "code",
   "execution_count": 65,
   "metadata": {},
   "outputs": [],
   "source": [
    "def calculate_key_rates_per_component(loss: ExperimentalLoss, component: str, n_iter=10):\n",
    "    assert hasattr(loss, component), f\"{component=} not an attribute of ExperimentalLoss\"\n",
    "    \n",
    "    x_vals = np.linspace(1/n_iter, 1, n_iter)\n",
    "    key_rates = []\n",
    "    \n",
    "    for x in tqdm(x_vals, desc=f\"{component=}\", position=1, leave=False):\n",
    "        setattr(loss, component, x)\n",
    "        key_rate = calculate_key_rate(loss)\n",
    "        \n",
    "        key_rates.append(key_rate)\n",
    "    \n",
    "    return x_vals, key_rates\n",
    "\n",
    "\n",
    "def calculate_key_rates_for_polarization_rotations(loss: ExperimentalLoss, n_iter=100):\n",
    "    \n",
    "    milliseconds = np.linspace(20, 3000, n_iter)  # 20ms to 3s\n",
    "    x_vals = milliseconds / 1000 \n",
    "    key_rates = []\n",
    "    \n",
    "    for x in tqdm(x_vals, desc=f\"component=polarizer_switching_time_s\", position=1, leave=False):\n",
    "        loss.polarizer_switching_time_s = x\n",
    "        key_rate = calculate_key_rate(loss)\n",
    "\n",
    "        key_rates.append(key_rate)\n",
    "    \n",
    "    return x_vals, key_rates\n",
    "\n",
    "\n",
    "def plot_key_rate_vs_component_efficiency(loss: ExperimentalLoss, save_fig=True):\n",
    "    fig, axs = plt.subplots(4, 3, figsize=(12, 12), sharey=True) \n",
    "    \n",
    "\n",
    "    for i, field_name in tqdm(enumerate(loss.field_names), total=len(loss.field_names)):\n",
    "        \n",
    "        if i < 9:\n",
    "            ax = axs[i // 3, i % 3]\n",
    "            x_vals, key_rates = calculate_key_rates_per_component(loss, field_name, n_iter=100)\n",
    "        else:\n",
    "            ax = plt.subplot2grid((4, 3), (3, 0), colspan=3)\n",
    "            x_vals, key_rates = calculate_key_rates_for_polarization_rotations(loss, n_iter=100)\n",
    "            # break;\n",
    "        \n",
    "        ax.plot(x_vals, key_rates)\n",
    "        ax.set_xlabel(f'{ExperimentalLoss.get_display_name(field_name)}')\n",
    "        ax.set_ylabel('Key Rate')\n",
    "        \n",
    "    if i < 8:\n",
    "        for j in range(i + 1, 9):\n",
    "            fig.delaxes(axs[j // 3, j % 3])\n",
    "\n",
    "    fig.suptitle('Key Rate vs Component Efficiency', fontsize=16, fontweight='bold')\n",
    "    \n",
    "    plt.subplots_adjust(hspace=0.3, wspace=0.4)\n",
    "    plt.show()\n",
    "    \n",
    "    if save_fig:\n",
    "        fig.savefig('images/key_rate_vs_component_efficiency.png')\n",
    "        \n",
    "    return fig"
   ]
  },
  {
   "cell_type": "markdown",
   "metadata": {
    "tags": []
   },
   "source": [
    "#### Secret Key Rate vs Component Efficiency"
   ]
  },
  {
   "cell_type": "code",
   "execution_count": 12,
   "metadata": {},
   "outputs": [
    {
     "data": {
      "application/vnd.jupyter.widget-view+json": {
       "model_id": "2756ad663ea0468f9ed7683ab5aa5953",
       "version_major": 2,
       "version_minor": 0
      },
      "text/plain": [
       "  0%|          | 0/10 [00:00<?, ?it/s]"
      ]
     },
     "metadata": {},
     "output_type": "display_data"
    },
    {
     "data": {
      "application/vnd.jupyter.widget-view+json": {
       "model_id": "",
       "version_major": 2,
       "version_minor": 0
      },
      "text/plain": [
       "component='e_d':   0%|          | 0/100 [00:00<?, ?it/s]"
      ]
     },
     "metadata": {},
     "output_type": "display_data"
    },
    {
     "data": {
      "application/vnd.jupyter.widget-view+json": {
       "model_id": "",
       "version_major": 2,
       "version_minor": 0
      },
      "text/plain": [
       "component='e_pbs1':   0%|          | 0/100 [00:00<?, ?it/s]"
      ]
     },
     "metadata": {},
     "output_type": "display_data"
    },
    {
     "data": {
      "application/vnd.jupyter.widget-view+json": {
       "model_id": "",
       "version_major": 2,
       "version_minor": 0
      },
      "text/plain": [
       "component='e_pbs2':   0%|          | 0/100 [00:00<?, ?it/s]"
      ]
     },
     "metadata": {},
     "output_type": "display_data"
    },
    {
     "data": {
      "application/vnd.jupyter.widget-view+json": {
       "model_id": "",
       "version_major": 2,
       "version_minor": 0
      },
      "text/plain": [
       "component='e_bs50':   0%|          | 0/100 [00:00<?, ?it/s]"
      ]
     },
     "metadata": {},
     "output_type": "display_data"
    },
    {
     "data": {
      "application/vnd.jupyter.widget-view+json": {
       "model_id": "",
       "version_major": 2,
       "version_minor": 0
      },
      "text/plain": [
       "component='e_fff':   0%|          | 0/100 [00:00<?, ?it/s]"
      ]
     },
     "metadata": {},
     "output_type": "display_data"
    },
    {
     "data": {
      "application/vnd.jupyter.widget-view+json": {
       "model_id": "",
       "version_major": 2,
       "version_minor": 0
      },
      "text/plain": [
       "component='e_hwp_a':   0%|          | 0/100 [00:00<?, ?it/s]"
      ]
     },
     "metadata": {},
     "output_type": "display_data"
    },
    {
     "data": {
      "application/vnd.jupyter.widget-view+json": {
       "model_id": "",
       "version_major": 2,
       "version_minor": 0
      },
      "text/plain": [
       "component='e_qwp_a':   0%|          | 0/100 [00:00<?, ?it/s]"
      ]
     },
     "metadata": {},
     "output_type": "display_data"
    },
    {
     "data": {
      "application/vnd.jupyter.widget-view+json": {
       "model_id": "",
       "version_major": 2,
       "version_minor": 0
      },
      "text/plain": [
       "component='e_hwp_b':   0%|          | 0/100 [00:00<?, ?it/s]"
      ]
     },
     "metadata": {},
     "output_type": "display_data"
    },
    {
     "data": {
      "application/vnd.jupyter.widget-view+json": {
       "model_id": "",
       "version_major": 2,
       "version_minor": 0
      },
      "text/plain": [
       "component='e_qwp_b':   0%|          | 0/100 [00:00<?, ?it/s]"
      ]
     },
     "metadata": {},
     "output_type": "display_data"
    },
    {
     "data": {
      "application/vnd.jupyter.widget-view+json": {
       "model_id": "",
       "version_major": 2,
       "version_minor": 0
      },
      "text/plain": [
       "component=polarizer_switching_time_s:   0%|          | 0/100 [00:00<?, ?it/s]"
      ]
     },
     "metadata": {},
     "output_type": "display_data"
    },
    {
     "data": {
      "image/png": "[encoded data removed]",
      "text/plain": [
       "<Figure size 864x864 with 10 Axes>"
      ]
     },
     "metadata": {
      "needs_background": "light"
     },
     "output_type": "display_data"
    }
   ],
   "source": [
    "fig = plot_key_rate_vs_component_efficiency(NO_LOSS, save_fig=True)"
   ]
  },
  {
   "cell_type": "markdown",
   "metadata": {},
   "source": [
    "TODO: \n",
    "- Characterize 3 levels of each component (cheap, average, expensive) and run through every combination of components. Plot key rate as a function of cost based on total components"
   ]
  },
  {
   "cell_type": "code",
   "execution_count": null,
   "metadata": {},
   "outputs": [],
   "source": [
    "half_wave_plate = {\n",
    "    \"cheap\":\n",
    "    \"avg\":\n",
    "    \"state_of_the_art\": \n",
    "}  # different motor speeds\n",
    "\n",
    "detectors = {\n",
    "    \"cheap\":\n",
    "    \"avg\":\n",
    "    \"state_of_the_art\": \n",
    "}\n",
    "\n",
    "\n",
    "NO_LOSS = ExperimentalLoss(\n",
    "    e_d = 1,      \n",
    "    e_pbs1 = 1,    \n",
    "    e_pbs2 = 1,   \n",
    "    e_bs50 = 1,    \n",
    "    e_fff = 1,\n",
    "    \n",
    "    e_hwp_a = 1,  \n",
    "    e_qwp_a = 1, \n",
    "    e_hwp_b = 1,  \n",
    "    e_qwp_b = 1,\n",
    "    \n",
    "    polarizer_switching_time_s = 1e-6  # photon generation rate of the detector is 10^5 photon/s,\n",
    ")"
   ]
  },
  {
   "cell_type": "markdown",
   "metadata": {},
   "source": [
    "## Testing"
   ]
  },
  {
   "cell_type": "markdown",
   "metadata": {},
   "source": [
    "#### Same Basis"
   ]
  },
  {
   "cell_type": "code",
   "execution_count": 72,
   "metadata": {},
   "outputs": [
    {
     "name": "stdout",
     "output_type": "stream",
     "text": [
      "H, H: True\n",
      "H, V: True\n",
      "H, D: False\n",
      "H, A: False\n",
      "V, H: True\n",
      "V, V: True\n",
      "V, D: False\n",
      "V, A: False\n",
      "D, H: False\n",
      "D, V: False\n",
      "D, D: True\n",
      "D, A: True\n",
      "A, H: False\n",
      "A, V: False\n",
      "A, D: True\n",
      "A, A: True\n"
     ]
    }
   ],
   "source": [
    "for alice in States:\n",
    "    for bob in States:\n",
    "        \n",
    "        same_basis = alice.basis == bob.basis\n",
    "        \n",
    "        print(f\"{alice.name}, {bob.name}: {same_basis}\")"
   ]
  },
  {
   "cell_type": "markdown",
   "metadata": {
    "tags": []
   },
   "source": [
    "#### Detector Averages"
   ]
  },
  {
   "cell_type": "code",
   "execution_count": 63,
   "metadata": {},
   "outputs": [],
   "source": [
    "steps = 100000\n",
    "\n",
    "\n",
    "outputs = {\n",
    "    \"Alice\": [],\n",
    "    \"Bob\": [],\n",
    "    \"d1v\": [],\n",
    "    \"d1h\": [],\n",
    "    \"d2v\": [],\n",
    "    \"d2h\": []\n",
    "}\n",
    "\n",
    "def simulate_detector_counts(alice: States, bob: States, loss: ExperimentalLoss) -> Measurement:\n",
    "    \n",
    "    alice_loss = loss.e_fff * loss.e_hwp_a * loss.e_qwp_a\n",
    "    bob_loss = loss.e_fff * loss.e_hwp_b * loss.e_qwp_b\n",
    "    \n",
    "    detector_weights = [\n",
    "        loss.e_d * N1v(*alice.loss_value(alice_loss), *bob.loss_value(bob_loss), loss.e_bs50, loss.e_pbs1),\n",
    "        loss.e_d * N1h(*alice.loss_value(alice_loss), *bob.loss_value(bob_loss), loss.e_bs50, loss.e_pbs1),\n",
    "        loss.e_d * N2v(*alice.loss_value(alice_loss), *bob.loss_value(bob_loss), loss.e_bs50, loss.e_pbs2),\n",
    "        loss.e_d * N2h(*alice.loss_value(alice_loss), *bob.loss_value(bob_loss), loss.e_bs50, loss.e_pbs2),\n",
    "    ]\n",
    "    \n",
    "    scale_factor = 2 / sum(detector_weights)\n",
    "    scaled_detector_weights = [scale_factor * weight for weight in detector_weights]\n",
    "    \n",
    "    detector_hits = random.choices([\"d1v\", \"d1h\", \"d2v\", \"d2h\"], weights=scaled_detector_weights, k=2)\n",
    "\n",
    "    is_valid = random.random() <= 1/scale_factor\n",
    "    d1v = detector_hits.count(\"d1v\") if is_valid else 0\n",
    "    d1h = detector_hits.count(\"d1h\") if is_valid else 0\n",
    "    d2v = detector_hits.count(\"d2v\") if is_valid else 0\n",
    "    d2h = detector_hits.count(\"d2h\") if is_valid else 0\n",
    "    \n",
    "    return d1v, d1h, d2v, d2h\n",
    "\n",
    "    \n",
    "    \n",
    "\n",
    "def simulate_detector_count_averages(loss: ExperimentalLoss): \n",
    "    \n",
    "    outputs = {\n",
    "        \"Alice\": [],\n",
    "        \"Bob\": [],\n",
    "        \"d1v\": [],\n",
    "        \"d1h\": [],\n",
    "        \"d2v\": [],\n",
    "        \"d2h\": []\n",
    "    }\n",
    "    \n",
    "    \n",
    "    for alice in tqdm(States, desc=f\"Alice\"):\n",
    "        for bob in tqdm(States, desc=f\"Bob\", position=1):\n",
    "            \n",
    "            d1v = 0\n",
    "            d1h = 0\n",
    "            d2v = 0\n",
    "            d2h = 0\n",
    "            for i in tqdm(range(steps), desc=f\"steps\", position=2, leave=False):\n",
    "                _d1v, _d1h, _d2v, _d2h = simulate_detector_counts(alice, bob, loss)\n",
    "                \n",
    "                d1v += _d1v\n",
    "                d1h += _d1h\n",
    "                d2v += _d2v\n",
    "                d2h += _d2h\n",
    "\n",
    "\n",
    "            outputs[\"Alice\"].append(alice)\n",
    "            outputs[\"Bob\"].append(bob)\n",
    "\n",
    "\n",
    "            outputs['d1v'].append(round(d1v/steps, 4))\n",
    "            outputs['d1h'].append(round(d1h/steps, 4))\n",
    "            outputs['d2v'].append(round(d2v/steps, 4))\n",
    "            outputs['d2h'].append(round(d2h/steps, 4))\n",
    "        \n",
    "    df = pd.DataFrame(outputs)  \n",
    "    df = df.set_index([\"Alice\", \"Bob\"])  \n",
    "    \n",
    "    return df"
   ]
  },
  {
   "cell_type": "code",
   "execution_count": 60,
   "metadata": {},
   "outputs": [
    {
     "data": {
      "application/vnd.jupyter.widget-view+json": {
       "model_id": "358df0b7f100463ca680f1b018845f96",
       "version_major": 2,
       "version_minor": 0
      },
      "text/plain": [
       "Alice:   0%|          | 0/4 [00:00<?, ?it/s]"
      ]
     },
     "metadata": {},
     "output_type": "display_data"
    },
    {
     "data": {
      "application/vnd.jupyter.widget-view+json": {
       "model_id": "f3449dfd676040488e42e374a08928f2",
       "version_major": 2,
       "version_minor": 0
      },
      "text/plain": [
       " dBob:   0%|          | 0/4 [00:00<?, ?it/s]"
      ]
     },
     "metadata": {},
     "output_type": "display_data"
    },
    {
     "data": {
      "application/vnd.jupyter.widget-view+json": {
       "model_id": "",
       "version_major": 2,
       "version_minor": 0
      },
      "text/plain": [
       "steps:   0%|          | 0/100000 [00:00<?, ?it/s]"
      ]
     },
     "metadata": {},
     "output_type": "display_data"
    },
    {
     "data": {
      "application/vnd.jupyter.widget-view+json": {
       "model_id": "",
       "version_major": 2,
       "version_minor": 0
      },
      "text/plain": [
       "steps:   0%|          | 0/100000 [00:00<?, ?it/s]"
      ]
     },
     "metadata": {},
     "output_type": "display_data"
    },
    {
     "data": {
      "application/vnd.jupyter.widget-view+json": {
       "model_id": "",
       "version_major": 2,
       "version_minor": 0
      },
      "text/plain": [
       "steps:   0%|          | 0/100000 [00:00<?, ?it/s]"
      ]
     },
     "metadata": {},
     "output_type": "display_data"
    },
    {
     "data": {
      "application/vnd.jupyter.widget-view+json": {
       "model_id": "",
       "version_major": 2,
       "version_minor": 0
      },
      "text/plain": [
       "steps:   0%|          | 0/100000 [00:00<?, ?it/s]"
      ]
     },
     "metadata": {},
     "output_type": "display_data"
    },
    {
     "data": {
      "application/vnd.jupyter.widget-view+json": {
       "model_id": "c873c8b6e27a408e86ac912116bfdfa7",
       "version_major": 2,
       "version_minor": 0
      },
      "text/plain": [
       " dBob:   0%|          | 0/4 [00:00<?, ?it/s]"
      ]
     },
     "metadata": {},
     "output_type": "display_data"
    },
    {
     "data": {
      "application/vnd.jupyter.widget-view+json": {
       "model_id": "",
       "version_major": 2,
       "version_minor": 0
      },
      "text/plain": [
       "steps:   0%|          | 0/100000 [00:00<?, ?it/s]"
      ]
     },
     "metadata": {},
     "output_type": "display_data"
    },
    {
     "data": {
      "application/vnd.jupyter.widget-view+json": {
       "model_id": "",
       "version_major": 2,
       "version_minor": 0
      },
      "text/plain": [
       "steps:   0%|          | 0/100000 [00:00<?, ?it/s]"
      ]
     },
     "metadata": {},
     "output_type": "display_data"
    },
    {
     "data": {
      "application/vnd.jupyter.widget-view+json": {
       "model_id": "",
       "version_major": 2,
       "version_minor": 0
      },
      "text/plain": [
       "steps:   0%|          | 0/100000 [00:00<?, ?it/s]"
      ]
     },
     "metadata": {},
     "output_type": "display_data"
    },
    {
     "data": {
      "application/vnd.jupyter.widget-view+json": {
       "model_id": "",
       "version_major": 2,
       "version_minor": 0
      },
      "text/plain": [
       "steps:   0%|          | 0/100000 [00:00<?, ?it/s]"
      ]
     },
     "metadata": {},
     "output_type": "display_data"
    },
    {
     "data": {
      "application/vnd.jupyter.widget-view+json": {
       "model_id": "d97c216378e74368bcd442a1457ebd7f",
       "version_major": 2,
       "version_minor": 0
      },
      "text/plain": [
       " dBob:   0%|          | 0/4 [00:00<?, ?it/s]"
      ]
     },
     "metadata": {},
     "output_type": "display_data"
    },
    {
     "data": {
      "application/vnd.jupyter.widget-view+json": {
       "model_id": "",
       "version_major": 2,
       "version_minor": 0
      },
      "text/plain": [
       "steps:   0%|          | 0/100000 [00:00<?, ?it/s]"
      ]
     },
     "metadata": {},
     "output_type": "display_data"
    },
    {
     "data": {
      "application/vnd.jupyter.widget-view+json": {
       "model_id": "",
       "version_major": 2,
       "version_minor": 0
      },
      "text/plain": [
       "steps:   0%|          | 0/100000 [00:00<?, ?it/s]"
      ]
     },
     "metadata": {},
     "output_type": "display_data"
    },
    {
     "data": {
      "application/vnd.jupyter.widget-view+json": {
       "model_id": "",
       "version_major": 2,
       "version_minor": 0
      },
      "text/plain": [
       "steps:   0%|          | 0/100000 [00:00<?, ?it/s]"
      ]
     },
     "metadata": {},
     "output_type": "display_data"
    },
    {
     "data": {
      "application/vnd.jupyter.widget-view+json": {
       "model_id": "",
       "version_major": 2,
       "version_minor": 0
      },
      "text/plain": [
       "steps:   0%|          | 0/100000 [00:00<?, ?it/s]"
      ]
     },
     "metadata": {},
     "output_type": "display_data"
    },
    {
     "data": {
      "application/vnd.jupyter.widget-view+json": {
       "model_id": "263e08a7aa194f98bbff0d102b2333de",
       "version_major": 2,
       "version_minor": 0
      },
      "text/plain": [
       " dBob:   0%|          | 0/4 [00:00<?, ?it/s]"
      ]
     },
     "metadata": {},
     "output_type": "display_data"
    },
    {
     "data": {
      "application/vnd.jupyter.widget-view+json": {
       "model_id": "",
       "version_major": 2,
       "version_minor": 0
      },
      "text/plain": [
       "steps:   0%|          | 0/100000 [00:00<?, ?it/s]"
      ]
     },
     "metadata": {},
     "output_type": "display_data"
    },
    {
     "data": {
      "application/vnd.jupyter.widget-view+json": {
       "model_id": "",
       "version_major": 2,
       "version_minor": 0
      },
      "text/plain": [
       "steps:   0%|          | 0/100000 [00:00<?, ?it/s]"
      ]
     },
     "metadata": {},
     "output_type": "display_data"
    },
    {
     "data": {
      "application/vnd.jupyter.widget-view+json": {
       "model_id": "",
       "version_major": 2,
       "version_minor": 0
      },
      "text/plain": [
       "steps:   0%|          | 0/100000 [00:00<?, ?it/s]"
      ]
     },
     "metadata": {},
     "output_type": "display_data"
    },
    {
     "data": {
      "application/vnd.jupyter.widget-view+json": {
       "model_id": "",
       "version_major": 2,
       "version_minor": 0
      },
      "text/plain": [
       "steps:   0%|          | 0/100000 [00:00<?, ?it/s]"
      ]
     },
     "metadata": {},
     "output_type": "display_data"
    },
    {
     "data": {
      "text/html": [
       "<div>\n",
       "<style scoped>\n",
       "    .dataframe tbody tr th:only-of-type {\n",
       "        vertical-align: middle;\n",
       "    }\n",
       "\n",
       "    .dataframe tbody tr th {\n",
       "        vertical-align: top;\n",
       "    }\n",
       "\n",
       "    .dataframe thead th {\n",
       "        text-align: right;\n",
       "    }\n",
       "</style>\n",
       "<table border=\"1\" class=\"dataframe\">\n",
       "  <thead>\n",
       "    <tr style=\"text-align: right;\">\n",
       "      <th></th>\n",
       "      <th></th>\n",
       "      <th>d1v</th>\n",
       "      <th>d1h</th>\n",
       "      <th>d2v</th>\n",
       "      <th>d2h</th>\n",
       "    </tr>\n",
       "    <tr>\n",
       "      <th>Alice</th>\n",
       "      <th>Bob</th>\n",
       "      <th></th>\n",
       "      <th></th>\n",
       "      <th></th>\n",
       "      <th></th>\n",
       "    </tr>\n",
       "  </thead>\n",
       "  <tbody>\n",
       "    <tr>\n",
       "      <th rowspan=\"4\" valign=\"top\">States.H</th>\n",
       "      <th>States.H</th>\n",
       "      <td>0.0000</td>\n",
       "      <td>0.0000</td>\n",
       "      <td>0.0000</td>\n",
       "      <td>2.0000</td>\n",
       "    </tr>\n",
       "    <tr>\n",
       "      <th>States.V</th>\n",
       "      <td>0.4963</td>\n",
       "      <td>0.4988</td>\n",
       "      <td>0.5013</td>\n",
       "      <td>0.5036</td>\n",
       "    </tr>\n",
       "    <tr>\n",
       "      <th>States.D</th>\n",
       "      <td>0.2495</td>\n",
       "      <td>0.0425</td>\n",
       "      <td>0.2529</td>\n",
       "      <td>1.4551</td>\n",
       "    </tr>\n",
       "    <tr>\n",
       "      <th>States.A</th>\n",
       "      <td>0.2503</td>\n",
       "      <td>0.0430</td>\n",
       "      <td>0.2510</td>\n",
       "      <td>1.4557</td>\n",
       "    </tr>\n",
       "    <tr>\n",
       "      <th rowspan=\"4\" valign=\"top\">States.V</th>\n",
       "      <th>States.H</th>\n",
       "      <td>0.4983</td>\n",
       "      <td>0.4991</td>\n",
       "      <td>0.5005</td>\n",
       "      <td>0.5020</td>\n",
       "    </tr>\n",
       "    <tr>\n",
       "      <th>States.V</th>\n",
       "      <td>0.0000</td>\n",
       "      <td>0.0000</td>\n",
       "      <td>2.0000</td>\n",
       "      <td>0.0000</td>\n",
       "    </tr>\n",
       "    <tr>\n",
       "      <th>States.D</th>\n",
       "      <td>0.0419</td>\n",
       "      <td>0.2495</td>\n",
       "      <td>1.4587</td>\n",
       "      <td>0.2500</td>\n",
       "    </tr>\n",
       "    <tr>\n",
       "      <th>States.A</th>\n",
       "      <td>1.4583</td>\n",
       "      <td>0.2500</td>\n",
       "      <td>0.0430</td>\n",
       "      <td>0.2487</td>\n",
       "    </tr>\n",
       "    <tr>\n",
       "      <th rowspan=\"4\" valign=\"top\">States.D</th>\n",
       "      <th>States.H</th>\n",
       "      <td>0.2500</td>\n",
       "      <td>0.0435</td>\n",
       "      <td>0.2497</td>\n",
       "      <td>1.4569</td>\n",
       "    </tr>\n",
       "    <tr>\n",
       "      <th>States.V</th>\n",
       "      <td>0.0430</td>\n",
       "      <td>0.2493</td>\n",
       "      <td>1.4571</td>\n",
       "      <td>0.2506</td>\n",
       "    </tr>\n",
       "    <tr>\n",
       "      <th>States.D</th>\n",
       "      <td>0.0000</td>\n",
       "      <td>0.0000</td>\n",
       "      <td>0.9993</td>\n",
       "      <td>1.0007</td>\n",
       "    </tr>\n",
       "    <tr>\n",
       "      <th>States.A</th>\n",
       "      <td>0.9993</td>\n",
       "      <td>0.0000</td>\n",
       "      <td>0.0000</td>\n",
       "      <td>1.0007</td>\n",
       "    </tr>\n",
       "    <tr>\n",
       "      <th rowspan=\"4\" valign=\"top\">States.A</th>\n",
       "      <th>States.H</th>\n",
       "      <td>0.2526</td>\n",
       "      <td>0.0440</td>\n",
       "      <td>0.2489</td>\n",
       "      <td>1.4545</td>\n",
       "    </tr>\n",
       "    <tr>\n",
       "      <th>States.V</th>\n",
       "      <td>1.4582</td>\n",
       "      <td>0.2496</td>\n",
       "      <td>0.0426</td>\n",
       "      <td>0.2496</td>\n",
       "    </tr>\n",
       "    <tr>\n",
       "      <th>States.D</th>\n",
       "      <td>0.9991</td>\n",
       "      <td>0.0000</td>\n",
       "      <td>0.0000</td>\n",
       "      <td>1.0009</td>\n",
       "    </tr>\n",
       "    <tr>\n",
       "      <th>States.A</th>\n",
       "      <td>0.0000</td>\n",
       "      <td>0.0000</td>\n",
       "      <td>1.0017</td>\n",
       "      <td>0.9983</td>\n",
       "    </tr>\n",
       "  </tbody>\n",
       "</table>\n",
       "</div>"
      ],
      "text/plain": [
       "                      d1v     d1h     d2v     d2h\n",
       "Alice    Bob                                     \n",
       "States.H States.H  0.0000  0.0000  0.0000  2.0000\n",
       "         States.V  0.4963  0.4988  0.5013  0.5036\n",
       "         States.D  0.2495  0.0425  0.2529  1.4551\n",
       "         States.A  0.2503  0.0430  0.2510  1.4557\n",
       "States.V States.H  0.4983  0.4991  0.5005  0.5020\n",
       "         States.V  0.0000  0.0000  2.0000  0.0000\n",
       "         States.D  0.0419  0.2495  1.4587  0.2500\n",
       "         States.A  1.4583  0.2500  0.0430  0.2487\n",
       "States.D States.H  0.2500  0.0435  0.2497  1.4569\n",
       "         States.V  0.0430  0.2493  1.4571  0.2506\n",
       "         States.D  0.0000  0.0000  0.9993  1.0007\n",
       "         States.A  0.9993  0.0000  0.0000  1.0007\n",
       "States.A States.H  0.2526  0.0440  0.2489  1.4545\n",
       "         States.V  1.4582  0.2496  0.0426  0.2496\n",
       "         States.D  0.9991  0.0000  0.0000  1.0009\n",
       "         States.A  0.0000  0.0000  1.0017  0.9983"
      ]
     },
     "execution_count": 60,
     "metadata": {},
     "output_type": "execute_result"
    }
   ],
   "source": [
    "simulate_detector_count_averages(NO_LOSS)"
   ]
  },
  {
   "cell_type": "code",
   "execution_count": 61,
   "metadata": {},
   "outputs": [
    {
     "data": {
      "application/vnd.jupyter.widget-view+json": {
       "model_id": "419a3101adb3402699804e8dcf5f0b8e",
       "version_major": 2,
       "version_minor": 0
      },
      "text/plain": [
       "Alice:   0%|          | 0/4 [00:00<?, ?it/s]"
      ]
     },
     "metadata": {},
     "output_type": "display_data"
    },
    {
     "data": {
      "application/vnd.jupyter.widget-view+json": {
       "model_id": "1fbcdc26977840609b36f8bf5db9eda2",
       "version_major": 2,
       "version_minor": 0
      },
      "text/plain": [
       " dBob:   0%|          | 0/4 [00:00<?, ?it/s]"
      ]
     },
     "metadata": {},
     "output_type": "display_data"
    },
    {
     "data": {
      "application/vnd.jupyter.widget-view+json": {
       "model_id": "",
       "version_major": 2,
       "version_minor": 0
      },
      "text/plain": [
       "steps:   0%|          | 0/100000 [00:00<?, ?it/s]"
      ]
     },
     "metadata": {},
     "output_type": "display_data"
    },
    {
     "data": {
      "application/vnd.jupyter.widget-view+json": {
       "model_id": "",
       "version_major": 2,
       "version_minor": 0
      },
      "text/plain": [
       "steps:   0%|          | 0/100000 [00:00<?, ?it/s]"
      ]
     },
     "metadata": {},
     "output_type": "display_data"
    },
    {
     "data": {
      "application/vnd.jupyter.widget-view+json": {
       "model_id": "",
       "version_major": 2,
       "version_minor": 0
      },
      "text/plain": [
       "steps:   0%|          | 0/100000 [00:00<?, ?it/s]"
      ]
     },
     "metadata": {},
     "output_type": "display_data"
    },
    {
     "data": {
      "application/vnd.jupyter.widget-view+json": {
       "model_id": "",
       "version_major": 2,
       "version_minor": 0
      },
      "text/plain": [
       "steps:   0%|          | 0/100000 [00:00<?, ?it/s]"
      ]
     },
     "metadata": {},
     "output_type": "display_data"
    },
    {
     "data": {
      "application/vnd.jupyter.widget-view+json": {
       "model_id": "b576899662af4584a27bbc661910d70c",
       "version_major": 2,
       "version_minor": 0
      },
      "text/plain": [
       " dBob:   0%|          | 0/4 [00:00<?, ?it/s]"
      ]
     },
     "metadata": {},
     "output_type": "display_data"
    },
    {
     "data": {
      "application/vnd.jupyter.widget-view+json": {
       "model_id": "",
       "version_major": 2,
       "version_minor": 0
      },
      "text/plain": [
       "steps:   0%|          | 0/100000 [00:00<?, ?it/s]"
      ]
     },
     "metadata": {},
     "output_type": "display_data"
    },
    {
     "data": {
      "application/vnd.jupyter.widget-view+json": {
       "model_id": "",
       "version_major": 2,
       "version_minor": 0
      },
      "text/plain": [
       "steps:   0%|          | 0/100000 [00:00<?, ?it/s]"
      ]
     },
     "metadata": {},
     "output_type": "display_data"
    },
    {
     "data": {
      "application/vnd.jupyter.widget-view+json": {
       "model_id": "",
       "version_major": 2,
       "version_minor": 0
      },
      "text/plain": [
       "steps:   0%|          | 0/100000 [00:00<?, ?it/s]"
      ]
     },
     "metadata": {},
     "output_type": "display_data"
    },
    {
     "data": {
      "application/vnd.jupyter.widget-view+json": {
       "model_id": "",
       "version_major": 2,
       "version_minor": 0
      },
      "text/plain": [
       "steps:   0%|          | 0/100000 [00:00<?, ?it/s]"
      ]
     },
     "metadata": {},
     "output_type": "display_data"
    },
    {
     "data": {
      "application/vnd.jupyter.widget-view+json": {
       "model_id": "25147b61ebe64951bbeff5cd5f1c5122",
       "version_major": 2,
       "version_minor": 0
      },
      "text/plain": [
       " dBob:   0%|          | 0/4 [00:00<?, ?it/s]"
      ]
     },
     "metadata": {},
     "output_type": "display_data"
    },
    {
     "data": {
      "application/vnd.jupyter.widget-view+json": {
       "model_id": "",
       "version_major": 2,
       "version_minor": 0
      },
      "text/plain": [
       "steps:   0%|          | 0/100000 [00:00<?, ?it/s]"
      ]
     },
     "metadata": {},
     "output_type": "display_data"
    },
    {
     "data": {
      "application/vnd.jupyter.widget-view+json": {
       "model_id": "",
       "version_major": 2,
       "version_minor": 0
      },
      "text/plain": [
       "steps:   0%|          | 0/100000 [00:00<?, ?it/s]"
      ]
     },
     "metadata": {},
     "output_type": "display_data"
    },
    {
     "data": {
      "application/vnd.jupyter.widget-view+json": {
       "model_id": "",
       "version_major": 2,
       "version_minor": 0
      },
      "text/plain": [
       "steps:   0%|          | 0/100000 [00:00<?, ?it/s]"
      ]
     },
     "metadata": {},
     "output_type": "display_data"
    },
    {
     "data": {
      "application/vnd.jupyter.widget-view+json": {
       "model_id": "",
       "version_major": 2,
       "version_minor": 0
      },
      "text/plain": [
       "steps:   0%|          | 0/100000 [00:00<?, ?it/s]"
      ]
     },
     "metadata": {},
     "output_type": "display_data"
    },
    {
     "data": {
      "application/vnd.jupyter.widget-view+json": {
       "model_id": "1a599c27b924419b9d02e89229c90ed0",
       "version_major": 2,
       "version_minor": 0
      },
      "text/plain": [
       " dBob:   0%|          | 0/4 [00:00<?, ?it/s]"
      ]
     },
     "metadata": {},
     "output_type": "display_data"
    },
    {
     "data": {
      "application/vnd.jupyter.widget-view+json": {
       "model_id": "",
       "version_major": 2,
       "version_minor": 0
      },
      "text/plain": [
       "steps:   0%|          | 0/100000 [00:00<?, ?it/s]"
      ]
     },
     "metadata": {},
     "output_type": "display_data"
    },
    {
     "data": {
      "application/vnd.jupyter.widget-view+json": {
       "model_id": "",
       "version_major": 2,
       "version_minor": 0
      },
      "text/plain": [
       "steps:   0%|          | 0/100000 [00:00<?, ?it/s]"
      ]
     },
     "metadata": {},
     "output_type": "display_data"
    },
    {
     "data": {
      "application/vnd.jupyter.widget-view+json": {
       "model_id": "",
       "version_major": 2,
       "version_minor": 0
      },
      "text/plain": [
       "steps:   0%|          | 0/100000 [00:00<?, ?it/s]"
      ]
     },
     "metadata": {},
     "output_type": "display_data"
    },
    {
     "data": {
      "application/vnd.jupyter.widget-view+json": {
       "model_id": "",
       "version_major": 2,
       "version_minor": 0
      },
      "text/plain": [
       "steps:   0%|          | 0/100000 [00:00<?, ?it/s]"
      ]
     },
     "metadata": {},
     "output_type": "display_data"
    },
    {
     "data": {
      "text/html": [
       "<div>\n",
       "<style scoped>\n",
       "    .dataframe tbody tr th:only-of-type {\n",
       "        vertical-align: middle;\n",
       "    }\n",
       "\n",
       "    .dataframe tbody tr th {\n",
       "        vertical-align: top;\n",
       "    }\n",
       "\n",
       "    .dataframe thead th {\n",
       "        text-align: right;\n",
       "    }\n",
       "</style>\n",
       "<table border=\"1\" class=\"dataframe\">\n",
       "  <thead>\n",
       "    <tr style=\"text-align: right;\">\n",
       "      <th></th>\n",
       "      <th></th>\n",
       "      <th>d1v</th>\n",
       "      <th>d1h</th>\n",
       "      <th>d2v</th>\n",
       "      <th>d2h</th>\n",
       "    </tr>\n",
       "    <tr>\n",
       "      <th>Alice</th>\n",
       "      <th>Bob</th>\n",
       "      <th></th>\n",
       "      <th></th>\n",
       "      <th></th>\n",
       "      <th></th>\n",
       "    </tr>\n",
       "  </thead>\n",
       "  <tbody>\n",
       "    <tr>\n",
       "      <th rowspan=\"4\" valign=\"top\">States.H</th>\n",
       "      <th>States.H</th>\n",
       "      <td>0.0000</td>\n",
       "      <td>0.0000</td>\n",
       "      <td>0.0000</td>\n",
       "      <td>0.0189</td>\n",
       "    </tr>\n",
       "    <tr>\n",
       "      <th>States.V</th>\n",
       "      <td>0.0044</td>\n",
       "      <td>0.0051</td>\n",
       "      <td>0.0046</td>\n",
       "      <td>0.0047</td>\n",
       "    </tr>\n",
       "    <tr>\n",
       "      <th>States.D</th>\n",
       "      <td>0.0023</td>\n",
       "      <td>0.0004</td>\n",
       "      <td>0.0022</td>\n",
       "      <td>0.0130</td>\n",
       "    </tr>\n",
       "    <tr>\n",
       "      <th>States.A</th>\n",
       "      <td>0.0024</td>\n",
       "      <td>0.0004</td>\n",
       "      <td>0.0022</td>\n",
       "      <td>0.0129</td>\n",
       "    </tr>\n",
       "    <tr>\n",
       "      <th rowspan=\"4\" valign=\"top\">States.V</th>\n",
       "      <th>States.H</th>\n",
       "      <td>0.0043</td>\n",
       "      <td>0.0044</td>\n",
       "      <td>0.0044</td>\n",
       "      <td>0.0044</td>\n",
       "    </tr>\n",
       "    <tr>\n",
       "      <th>States.V</th>\n",
       "      <td>0.0000</td>\n",
       "      <td>0.0000</td>\n",
       "      <td>0.0181</td>\n",
       "      <td>0.0000</td>\n",
       "    </tr>\n",
       "    <tr>\n",
       "      <th>States.D</th>\n",
       "      <td>0.0004</td>\n",
       "      <td>0.0024</td>\n",
       "      <td>0.0140</td>\n",
       "      <td>0.0021</td>\n",
       "    </tr>\n",
       "    <tr>\n",
       "      <th>States.A</th>\n",
       "      <td>0.0129</td>\n",
       "      <td>0.0023</td>\n",
       "      <td>0.0004</td>\n",
       "      <td>0.0020</td>\n",
       "    </tr>\n",
       "    <tr>\n",
       "      <th rowspan=\"4\" valign=\"top\">States.D</th>\n",
       "      <th>States.H</th>\n",
       "      <td>0.0022</td>\n",
       "      <td>0.0004</td>\n",
       "      <td>0.0022</td>\n",
       "      <td>0.0136</td>\n",
       "    </tr>\n",
       "    <tr>\n",
       "      <th>States.V</th>\n",
       "      <td>0.0003</td>\n",
       "      <td>0.0021</td>\n",
       "      <td>0.0136</td>\n",
       "      <td>0.0023</td>\n",
       "    </tr>\n",
       "    <tr>\n",
       "      <th>States.D</th>\n",
       "      <td>0.0000</td>\n",
       "      <td>0.0000</td>\n",
       "      <td>0.0089</td>\n",
       "      <td>0.0092</td>\n",
       "    </tr>\n",
       "    <tr>\n",
       "      <th>States.A</th>\n",
       "      <td>0.0088</td>\n",
       "      <td>0.0000</td>\n",
       "      <td>0.0000</td>\n",
       "      <td>0.0084</td>\n",
       "    </tr>\n",
       "    <tr>\n",
       "      <th rowspan=\"4\" valign=\"top\">States.A</th>\n",
       "      <th>States.H</th>\n",
       "      <td>0.0023</td>\n",
       "      <td>0.0004</td>\n",
       "      <td>0.0024</td>\n",
       "      <td>0.0130</td>\n",
       "    </tr>\n",
       "    <tr>\n",
       "      <th>States.V</th>\n",
       "      <td>0.0139</td>\n",
       "      <td>0.0021</td>\n",
       "      <td>0.0004</td>\n",
       "      <td>0.0024</td>\n",
       "    </tr>\n",
       "    <tr>\n",
       "      <th>States.D</th>\n",
       "      <td>0.0093</td>\n",
       "      <td>0.0000</td>\n",
       "      <td>0.0000</td>\n",
       "      <td>0.0086</td>\n",
       "    </tr>\n",
       "    <tr>\n",
       "      <th>States.A</th>\n",
       "      <td>0.0000</td>\n",
       "      <td>0.0000</td>\n",
       "      <td>0.0088</td>\n",
       "      <td>0.0094</td>\n",
       "    </tr>\n",
       "  </tbody>\n",
       "</table>\n",
       "</div>"
      ],
      "text/plain": [
       "                      d1v     d1h     d2v     d2h\n",
       "Alice    Bob                                     \n",
       "States.H States.H  0.0000  0.0000  0.0000  0.0189\n",
       "         States.V  0.0044  0.0051  0.0046  0.0047\n",
       "         States.D  0.0023  0.0004  0.0022  0.0130\n",
       "         States.A  0.0024  0.0004  0.0022  0.0129\n",
       "States.V States.H  0.0043  0.0044  0.0044  0.0044\n",
       "         States.V  0.0000  0.0000  0.0181  0.0000\n",
       "         States.D  0.0004  0.0024  0.0140  0.0021\n",
       "         States.A  0.0129  0.0023  0.0004  0.0020\n",
       "States.D States.H  0.0022  0.0004  0.0022  0.0136\n",
       "         States.V  0.0003  0.0021  0.0136  0.0023\n",
       "         States.D  0.0000  0.0000  0.0089  0.0092\n",
       "         States.A  0.0088  0.0000  0.0000  0.0084\n",
       "States.A States.H  0.0023  0.0004  0.0024  0.0130\n",
       "         States.V  0.0139  0.0021  0.0004  0.0024\n",
       "         States.D  0.0093  0.0000  0.0000  0.0086\n",
       "         States.A  0.0000  0.0000  0.0088  0.0094"
      ]
     },
     "execution_count": 61,
     "metadata": {},
     "output_type": "execute_result"
    }
   ],
   "source": [
    "simulate_detector_count_averages(MIT_OPTICS_LAB_LOSS)"
   ]
  },
  {
   "cell_type": "code",
   "execution_count": 62,
   "metadata": {},
   "outputs": [
    {
     "data": {
      "application/vnd.jupyter.widget-view+json": {
       "model_id": "27e64c73792f44d1ab4b9d82472e1b32",
       "version_major": 2,
       "version_minor": 0
      },
      "text/plain": [
       "Alice:   0%|          | 0/4 [00:00<?, ?it/s]"
      ]
     },
     "metadata": {},
     "output_type": "display_data"
    },
    {
     "data": {
      "application/vnd.jupyter.widget-view+json": {
       "model_id": "411c21d1d42d4f99b14cd834ab20a073",
       "version_major": 2,
       "version_minor": 0
      },
      "text/plain": [
       " dBob:   0%|          | 0/4 [00:00<?, ?it/s]"
      ]
     },
     "metadata": {},
     "output_type": "display_data"
    },
    {
     "data": {
      "application/vnd.jupyter.widget-view+json": {
       "model_id": "",
       "version_major": 2,
       "version_minor": 0
      },
      "text/plain": [
       "steps:   0%|          | 0/100000 [00:00<?, ?it/s]"
      ]
     },
     "metadata": {},
     "output_type": "display_data"
    },
    {
     "data": {
      "application/vnd.jupyter.widget-view+json": {
       "model_id": "",
       "version_major": 2,
       "version_minor": 0
      },
      "text/plain": [
       "steps:   0%|          | 0/100000 [00:00<?, ?it/s]"
      ]
     },
     "metadata": {},
     "output_type": "display_data"
    },
    {
     "data": {
      "application/vnd.jupyter.widget-view+json": {
       "model_id": "",
       "version_major": 2,
       "version_minor": 0
      },
      "text/plain": [
       "steps:   0%|          | 0/100000 [00:00<?, ?it/s]"
      ]
     },
     "metadata": {},
     "output_type": "display_data"
    },
    {
     "data": {
      "application/vnd.jupyter.widget-view+json": {
       "model_id": "",
       "version_major": 2,
       "version_minor": 0
      },
      "text/plain": [
       "steps:   0%|          | 0/100000 [00:00<?, ?it/s]"
      ]
     },
     "metadata": {},
     "output_type": "display_data"
    },
    {
     "data": {
      "application/vnd.jupyter.widget-view+json": {
       "model_id": "e998df3751074789aec87f5929b769d2",
       "version_major": 2,
       "version_minor": 0
      },
      "text/plain": [
       " dBob:   0%|          | 0/4 [00:00<?, ?it/s]"
      ]
     },
     "metadata": {},
     "output_type": "display_data"
    },
    {
     "data": {
      "application/vnd.jupyter.widget-view+json": {
       "model_id": "",
       "version_major": 2,
       "version_minor": 0
      },
      "text/plain": [
       "steps:   0%|          | 0/100000 [00:00<?, ?it/s]"
      ]
     },
     "metadata": {},
     "output_type": "display_data"
    },
    {
     "data": {
      "application/vnd.jupyter.widget-view+json": {
       "model_id": "",
       "version_major": 2,
       "version_minor": 0
      },
      "text/plain": [
       "steps:   0%|          | 0/100000 [00:00<?, ?it/s]"
      ]
     },
     "metadata": {},
     "output_type": "display_data"
    },
    {
     "data": {
      "application/vnd.jupyter.widget-view+json": {
       "model_id": "",
       "version_major": 2,
       "version_minor": 0
      },
      "text/plain": [
       "steps:   0%|          | 0/100000 [00:00<?, ?it/s]"
      ]
     },
     "metadata": {},
     "output_type": "display_data"
    },
    {
     "data": {
      "application/vnd.jupyter.widget-view+json": {
       "model_id": "",
       "version_major": 2,
       "version_minor": 0
      },
      "text/plain": [
       "steps:   0%|          | 0/100000 [00:00<?, ?it/s]"
      ]
     },
     "metadata": {},
     "output_type": "display_data"
    },
    {
     "data": {
      "application/vnd.jupyter.widget-view+json": {
       "model_id": "1498b35bbe464fb0813752f0f802f235",
       "version_major": 2,
       "version_minor": 0
      },
      "text/plain": [
       " dBob:   0%|          | 0/4 [00:00<?, ?it/s]"
      ]
     },
     "metadata": {},
     "output_type": "display_data"
    },
    {
     "data": {
      "application/vnd.jupyter.widget-view+json": {
       "model_id": "",
       "version_major": 2,
       "version_minor": 0
      },
      "text/plain": [
       "steps:   0%|          | 0/100000 [00:00<?, ?it/s]"
      ]
     },
     "metadata": {},
     "output_type": "display_data"
    },
    {
     "data": {
      "application/vnd.jupyter.widget-view+json": {
       "model_id": "",
       "version_major": 2,
       "version_minor": 0
      },
      "text/plain": [
       "steps:   0%|          | 0/100000 [00:00<?, ?it/s]"
      ]
     },
     "metadata": {},
     "output_type": "display_data"
    },
    {
     "data": {
      "application/vnd.jupyter.widget-view+json": {
       "model_id": "",
       "version_major": 2,
       "version_minor": 0
      },
      "text/plain": [
       "steps:   0%|          | 0/100000 [00:00<?, ?it/s]"
      ]
     },
     "metadata": {},
     "output_type": "display_data"
    },
    {
     "data": {
      "application/vnd.jupyter.widget-view+json": {
       "model_id": "",
       "version_major": 2,
       "version_minor": 0
      },
      "text/plain": [
       "steps:   0%|          | 0/100000 [00:00<?, ?it/s]"
      ]
     },
     "metadata": {},
     "output_type": "display_data"
    },
    {
     "data": {
      "application/vnd.jupyter.widget-view+json": {
       "model_id": "6b51f2d8db8e4ebfab1d1dc1a9d5ffe8",
       "version_major": 2,
       "version_minor": 0
      },
      "text/plain": [
       " dBob:   0%|          | 0/4 [00:00<?, ?it/s]"
      ]
     },
     "metadata": {},
     "output_type": "display_data"
    },
    {
     "data": {
      "application/vnd.jupyter.widget-view+json": {
       "model_id": "",
       "version_major": 2,
       "version_minor": 0
      },
      "text/plain": [
       "steps:   0%|          | 0/100000 [00:00<?, ?it/s]"
      ]
     },
     "metadata": {},
     "output_type": "display_data"
    },
    {
     "data": {
      "application/vnd.jupyter.widget-view+json": {
       "model_id": "",
       "version_major": 2,
       "version_minor": 0
      },
      "text/plain": [
       "steps:   0%|          | 0/100000 [00:00<?, ?it/s]"
      ]
     },
     "metadata": {},
     "output_type": "display_data"
    },
    {
     "data": {
      "application/vnd.jupyter.widget-view+json": {
       "model_id": "",
       "version_major": 2,
       "version_minor": 0
      },
      "text/plain": [
       "steps:   0%|          | 0/100000 [00:00<?, ?it/s]"
      ]
     },
     "metadata": {},
     "output_type": "display_data"
    },
    {
     "data": {
      "application/vnd.jupyter.widget-view+json": {
       "model_id": "",
       "version_major": 2,
       "version_minor": 0
      },
      "text/plain": [
       "steps:   0%|          | 0/100000 [00:00<?, ?it/s]"
      ]
     },
     "metadata": {},
     "output_type": "display_data"
    },
    {
     "data": {
      "text/html": [
       "<div>\n",
       "<style scoped>\n",
       "    .dataframe tbody tr th:only-of-type {\n",
       "        vertical-align: middle;\n",
       "    }\n",
       "\n",
       "    .dataframe tbody tr th {\n",
       "        vertical-align: top;\n",
       "    }\n",
       "\n",
       "    .dataframe thead th {\n",
       "        text-align: right;\n",
       "    }\n",
       "</style>\n",
       "<table border=\"1\" class=\"dataframe\">\n",
       "  <thead>\n",
       "    <tr style=\"text-align: right;\">\n",
       "      <th></th>\n",
       "      <th></th>\n",
       "      <th>d1v</th>\n",
       "      <th>d1h</th>\n",
       "      <th>d2v</th>\n",
       "      <th>d2h</th>\n",
       "    </tr>\n",
       "    <tr>\n",
       "      <th>Alice</th>\n",
       "      <th>Bob</th>\n",
       "      <th></th>\n",
       "      <th></th>\n",
       "      <th></th>\n",
       "      <th></th>\n",
       "    </tr>\n",
       "  </thead>\n",
       "  <tbody>\n",
       "    <tr>\n",
       "      <th rowspan=\"4\" valign=\"top\">States.H</th>\n",
       "      <th>States.H</th>\n",
       "      <td>0.0000</td>\n",
       "      <td>0.0000</td>\n",
       "      <td>0.0000</td>\n",
       "      <td>1.9602</td>\n",
       "    </tr>\n",
       "    <tr>\n",
       "      <th>States.V</th>\n",
       "      <td>0.4884</td>\n",
       "      <td>0.4913</td>\n",
       "      <td>0.4904</td>\n",
       "      <td>0.4897</td>\n",
       "    </tr>\n",
       "    <tr>\n",
       "      <th>States.D</th>\n",
       "      <td>0.2433</td>\n",
       "      <td>0.0422</td>\n",
       "      <td>0.2473</td>\n",
       "      <td>1.4260</td>\n",
       "    </tr>\n",
       "    <tr>\n",
       "      <th>States.A</th>\n",
       "      <td>0.2428</td>\n",
       "      <td>0.0428</td>\n",
       "      <td>0.2497</td>\n",
       "      <td>1.4248</td>\n",
       "    </tr>\n",
       "    <tr>\n",
       "      <th rowspan=\"4\" valign=\"top\">States.V</th>\n",
       "      <th>States.H</th>\n",
       "      <td>0.4908</td>\n",
       "      <td>0.4904</td>\n",
       "      <td>0.4866</td>\n",
       "      <td>0.4912</td>\n",
       "    </tr>\n",
       "    <tr>\n",
       "      <th>States.V</th>\n",
       "      <td>0.0000</td>\n",
       "      <td>0.0000</td>\n",
       "      <td>1.9593</td>\n",
       "      <td>0.0000</td>\n",
       "    </tr>\n",
       "    <tr>\n",
       "      <th>States.D</th>\n",
       "      <td>0.0432</td>\n",
       "      <td>0.2434</td>\n",
       "      <td>1.4291</td>\n",
       "      <td>0.2438</td>\n",
       "    </tr>\n",
       "    <tr>\n",
       "      <th>States.A</th>\n",
       "      <td>1.4270</td>\n",
       "      <td>0.2453</td>\n",
       "      <td>0.0425</td>\n",
       "      <td>0.2454</td>\n",
       "    </tr>\n",
       "    <tr>\n",
       "      <th rowspan=\"4\" valign=\"top\">States.D</th>\n",
       "      <th>States.H</th>\n",
       "      <td>0.2446</td>\n",
       "      <td>0.0424</td>\n",
       "      <td>0.2422</td>\n",
       "      <td>1.4312</td>\n",
       "    </tr>\n",
       "    <tr>\n",
       "      <th>States.V</th>\n",
       "      <td>0.0419</td>\n",
       "      <td>0.2472</td>\n",
       "      <td>1.4240</td>\n",
       "      <td>0.2460</td>\n",
       "    </tr>\n",
       "    <tr>\n",
       "      <th>States.D</th>\n",
       "      <td>0.0000</td>\n",
       "      <td>0.0000</td>\n",
       "      <td>0.9796</td>\n",
       "      <td>0.9817</td>\n",
       "    </tr>\n",
       "    <tr>\n",
       "      <th>States.A</th>\n",
       "      <td>0.9802</td>\n",
       "      <td>0.0000</td>\n",
       "      <td>0.0000</td>\n",
       "      <td>0.9808</td>\n",
       "    </tr>\n",
       "    <tr>\n",
       "      <th rowspan=\"4\" valign=\"top\">States.A</th>\n",
       "      <th>States.H</th>\n",
       "      <td>0.2425</td>\n",
       "      <td>0.0411</td>\n",
       "      <td>0.2436</td>\n",
       "      <td>1.4335</td>\n",
       "    </tr>\n",
       "    <tr>\n",
       "      <th>States.V</th>\n",
       "      <td>1.4300</td>\n",
       "      <td>0.2439</td>\n",
       "      <td>0.0427</td>\n",
       "      <td>0.2430</td>\n",
       "    </tr>\n",
       "    <tr>\n",
       "      <th>States.D</th>\n",
       "      <td>0.9768</td>\n",
       "      <td>0.0000</td>\n",
       "      <td>0.0000</td>\n",
       "      <td>0.9824</td>\n",
       "    </tr>\n",
       "    <tr>\n",
       "      <th>States.A</th>\n",
       "      <td>0.0000</td>\n",
       "      <td>0.0000</td>\n",
       "      <td>0.9776</td>\n",
       "      <td>0.9838</td>\n",
       "    </tr>\n",
       "  </tbody>\n",
       "</table>\n",
       "</div>"
      ],
      "text/plain": [
       "                      d1v     d1h     d2v     d2h\n",
       "Alice    Bob                                     \n",
       "States.H States.H  0.0000  0.0000  0.0000  1.9602\n",
       "         States.V  0.4884  0.4913  0.4904  0.4897\n",
       "         States.D  0.2433  0.0422  0.2473  1.4260\n",
       "         States.A  0.2428  0.0428  0.2497  1.4248\n",
       "States.V States.H  0.4908  0.4904  0.4866  0.4912\n",
       "         States.V  0.0000  0.0000  1.9593  0.0000\n",
       "         States.D  0.0432  0.2434  1.4291  0.2438\n",
       "         States.A  1.4270  0.2453  0.0425  0.2454\n",
       "States.D States.H  0.2446  0.0424  0.2422  1.4312\n",
       "         States.V  0.0419  0.2472  1.4240  0.2460\n",
       "         States.D  0.0000  0.0000  0.9796  0.9817\n",
       "         States.A  0.9802  0.0000  0.0000  0.9808\n",
       "States.A States.H  0.2425  0.0411  0.2436  1.4335\n",
       "         States.V  1.4300  0.2439  0.0427  0.2430\n",
       "         States.D  0.9768  0.0000  0.0000  0.9824\n",
       "         States.A  0.0000  0.0000  0.9776  0.9838"
      ]
     },
     "execution_count": 62,
     "metadata": {},
     "output_type": "execute_result"
    }
   ],
   "source": [
    "simulate_detector_count_averages(STATE_OF_THE_ART_LOSS)"
   ]
  },
  {
   "cell_type": "markdown",
   "metadata": {
    "tags": []
   },
   "source": [
    "#### Bits per Photon Rates\n",
    "\n",
    "How many valid bits per photon"
   ]
  },
  {
   "cell_type": "code",
   "execution_count": 56,
   "metadata": {},
   "outputs": [
    {
     "name": "stdout",
     "output_type": "stream",
     "text": [
      "Calculating bits per photon...\n"
     ]
    },
    {
     "data": {
      "application/vnd.jupyter.widget-view+json": {
       "model_id": "9531533bb96a438dbf2412387b890657",
       "version_major": 2,
       "version_minor": 0
      },
      "text/plain": [
       "  0%|          | 0/9 [00:00<?, ?it/s]"
      ]
     },
     "metadata": {},
     "output_type": "display_data"
    },
    {
     "name": "stdout",
     "output_type": "stream",
     "text": [
      "avg_key_rate=0.1931\n",
      "std_key_rate=0.0045\n",
      "Time to run: 3.1 seconds\n",
      "----------------------------------\n",
      "Calculating bits per photon...\n"
     ]
    },
    {
     "data": {
      "application/vnd.jupyter.widget-view+json": {
       "model_id": "0522f640ffd14040a25671ced702bdda",
       "version_major": 2,
       "version_minor": 0
      },
      "text/plain": [
       "  0%|          | 0/9 [00:00<?, ?it/s]"
      ]
     },
     "metadata": {},
     "output_type": "display_data"
    },
    {
     "name": "stdout",
     "output_type": "stream",
     "text": [
      "avg_key_rate=0.0016\n",
      "std_key_rate=0.0007\n",
      "Time to run: 3.01 seconds\n",
      "----------------------------------\n",
      "Calculating bits per photon...\n"
     ]
    },
    {
     "data": {
      "application/vnd.jupyter.widget-view+json": {
       "model_id": "dc64bc2715914c508cee7847194bd323",
       "version_major": 2,
       "version_minor": 0
      },
      "text/plain": [
       "  0%|          | 0/9 [00:00<?, ?it/s]"
      ]
     },
     "metadata": {},
     "output_type": "display_data"
    },
    {
     "name": "stdout",
     "output_type": "stream",
     "text": [
      "avg_key_rate=0.1802\n",
      "std_key_rate=0.0072\n",
      "Time to run: 3.13 seconds\n",
      "----------------------------------\n"
     ]
    }
   ],
   "source": [
    "no_loss_bits_per_photon = calculate_bits_per_photon(NO_LOSS)\n",
    "mit_optics_lab_bits_per_photon = calculate_bits_per_photon(MIT_OPTICS_LAB_LOSS)\n",
    "state_of_the_art_bits_per_photon = calculate_bits_per_photon(STATE_OF_THE_ART_LOSS)"
   ]
  },
  {
   "cell_type": "markdown",
   "metadata": {
    "tags": []
   },
   "source": [
    "#### Step Rates\n",
    "\n",
    "Time to execute one step"
   ]
  },
  {
   "cell_type": "code",
   "execution_count": 57,
   "metadata": {},
   "outputs": [
    {
     "name": "stdout",
     "output_type": "stream",
     "text": [
      "Calculating photon simulation rate...\n"
     ]
    },
    {
     "data": {
      "application/vnd.jupyter.widget-view+json": {
       "model_id": "41e33910dab448c3899d90e90d1741a3",
       "version_major": 2,
       "version_minor": 0
      },
      "text/plain": [
       "  0%|          | 0/9 [00:00<?, ?it/s]"
      ]
     },
     "metadata": {},
     "output_type": "display_data"
    },
    {
     "name": "stdout",
     "output_type": "stream",
     "text": [
      "avg_time_per_step=6.7e-05\n",
      "std_time_per_step=2e-06\n",
      "Time to run: 0.6 seconds\n",
      "----------------------------------\n",
      "Calculating photon simulation rate...\n"
     ]
    },
    {
     "data": {
      "application/vnd.jupyter.widget-view+json": {
       "model_id": "245d4dad3a4a4d8eaeaee8b90ce39c8c",
       "version_major": 2,
       "version_minor": 0
      },
      "text/plain": [
       "  0%|          | 0/9 [00:00<?, ?it/s]"
      ]
     },
     "metadata": {},
     "output_type": "display_data"
    },
    {
     "name": "stdout",
     "output_type": "stream",
     "text": [
      "avg_time_per_step=6.7e-05\n",
      "std_time_per_step=4e-06\n",
      "Time to run: 0.58 seconds\n",
      "----------------------------------\n",
      "Calculating photon simulation rate...\n"
     ]
    },
    {
     "data": {
      "application/vnd.jupyter.widget-view+json": {
       "model_id": "8b8f1ae3c0054b78bcadc68fcd7082e5",
       "version_major": 2,
       "version_minor": 0
      },
      "text/plain": [
       "  0%|          | 0/9 [00:00<?, ?it/s]"
      ]
     },
     "metadata": {},
     "output_type": "display_data"
    },
    {
     "name": "stdout",
     "output_type": "stream",
     "text": [
      "avg_time_per_step=6.8e-05\n",
      "std_time_per_step=3e-06\n",
      "Time to run: 0.6 seconds\n",
      "----------------------------------\n"
     ]
    }
   ],
   "source": [
    "no_loss_photon_simulation_rate = calculate_photon_simulation_rate(NO_LOSS)\n",
    "mit_optics_lab_photon_simulation_rate = calculate_photon_simulation_rate(MIT_OPTICS_LAB_LOSS)\n",
    "state_of_the_art_photon_simulation_rate = calculate_photon_simulation_rate(STATE_OF_THE_ART_LOSS)"
   ]
  },
  {
   "cell_type": "markdown",
   "metadata": {
    "tags": []
   },
   "source": [
    "#### Secret Key Rates"
   ]
  },
  {
   "cell_type": "code",
   "execution_count": 58,
   "metadata": {},
   "outputs": [
    {
     "name": "stdout",
     "output_type": "stream",
     "text": [
      "no_loss_key_rate = 193900.0 bits/second\n",
      "mit_optics_lab_key_rate = 0.0006 bits/second\n",
      "state_of_the_art_key_rate = 9.29 bits/second\n"
     ]
    }
   ],
   "source": [
    "no_loss_key_rate = calculate_key_rate(NO_LOSS)\n",
    "mit_optics_lab_key_rate = calculate_key_rate(MIT_OPTICS_LAB_LOSS)\n",
    "state_of_the_art_key_rate = calculate_key_rate(STATE_OF_THE_ART_LOSS)\n",
    "\n",
    "print(f\"{no_loss_key_rate = } bits/second\")\n",
    "print(f\"{mit_optics_lab_key_rate = } bits/second\")\n",
    "print(f\"{state_of_the_art_key_rate = } bits/second\")"
   ]
  },
  {
   "cell_type": "code",
   "execution_count": null,
   "metadata": {},
   "outputs": [],
   "source": []
  }
 ],
 "metadata": {
  "kernelspec": {
   "display_name": "Python 3 (ipykernel)",
   "language": "python",
   "name": "python3"
  },
  "language_info": {
   "codemirror_mode": {
    "name": "ipython",
    "version": 3
   },
   "file_extension": ".py",
   "mimetype": "text/x-python",
   "name": "python",
   "nbconvert_exporter": "python",
   "pygments_lexer": "ipython3",
   "version": "3.8.6"
  }
 },
 "nbformat": 4,
 "nbformat_minor": 4
}
